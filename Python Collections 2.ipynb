{
 "cells": [
  {
   "cell_type": "code",
   "execution_count": 34,
   "id": "715557c8",
   "metadata": {},
   "outputs": [],
   "source": [
    "usuarios_data_science = [15, 23, 43, 56]\n",
    "usuarios_machine_learning = [13, 23, 56, 42]"
   ]
  },
  {
   "cell_type": "code",
   "execution_count": 35,
   "id": "7ba51088",
   "metadata": {},
   "outputs": [
    {
     "data": {
      "text/plain": [
       "[15, 23, 43, 56, 13, 23, 56, 42]"
      ]
     },
     "execution_count": 35,
     "metadata": {},
     "output_type": "execute_result"
    }
   ],
   "source": [
    "\n",
    "assistiram =  usuarios_data_science.copy()\n",
    "assistiram.extend(usuarios_machine_learning)\n",
    "assistiram"
   ]
  },
  {
   "cell_type": "code",
   "execution_count": 36,
   "id": "1ee831f5",
   "metadata": {},
   "outputs": [
    {
     "data": {
      "text/plain": [
       "8"
      ]
     },
     "execution_count": 36,
     "metadata": {},
     "output_type": "execute_result"
    }
   ],
   "source": [
    "len(assistiram)"
   ]
  },
  {
   "cell_type": "markdown",
   "id": "d7a6194c",
   "metadata": {},
   "source": [
    "# Sets(conjuntos)"
   ]
  },
  {
   "cell_type": "code",
   "execution_count": 37,
   "id": "ae8c983d",
   "metadata": {},
   "outputs": [
    {
     "data": {
      "text/plain": [
       "{13, 15, 23, 42, 43, 56}"
      ]
     },
     "execution_count": 37,
     "metadata": {},
     "output_type": "execute_result"
    }
   ],
   "source": [
    "set(assistiram) # reparar que na saída os elementos 23 e 56 repetidos não entram"
   ]
  },
  {
   "cell_type": "code",
   "execution_count": 38,
   "id": "ae25362b",
   "metadata": {},
   "outputs": [
    {
     "data": {
      "text/plain": [
       "{1, 2, 3}"
      ]
     },
     "execution_count": 38,
     "metadata": {},
     "output_type": "execute_result"
    }
   ],
   "source": [
    "set([1,2,3,1])"
   ]
  },
  {
   "cell_type": "code",
   "execution_count": 39,
   "id": "9de27297",
   "metadata": {},
   "outputs": [
    {
     "data": {
      "text/plain": [
       "{1, 2, 3, 4}"
      ]
     },
     "execution_count": 39,
     "metadata": {},
     "output_type": "execute_result"
    }
   ],
   "source": [
    "{4,1,2,3,1,}"
   ]
  },
  {
   "cell_type": "code",
   "execution_count": 40,
   "id": "b51bb3a5",
   "metadata": {},
   "outputs": [
    {
     "data": {
      "text/plain": [
       "set"
      ]
     },
     "execution_count": 40,
     "metadata": {},
     "output_type": "execute_result"
    }
   ],
   "source": [
    "type({1,2})"
   ]
  },
  {
   "cell_type": "code",
   "execution_count": 41,
   "id": "9b215daa",
   "metadata": {},
   "outputs": [],
   "source": [
    "usuarios_data_science = {15, 23, 43, 56}\n",
    "usuarios_machine_learning = {13, 23, 56, 42}"
   ]
  },
  {
   "cell_type": "code",
   "execution_count": 42,
   "id": "756b1e6a",
   "metadata": {},
   "outputs": [
    {
     "data": {
      "text/plain": [
       "{13, 23, 42, 56}"
      ]
     },
     "execution_count": 42,
     "metadata": {},
     "output_type": "execute_result"
    }
   ],
   "source": [
    "usuarios_machine_learning"
   ]
  },
  {
   "cell_type": "code",
   "execution_count": null,
   "id": "d03fedc5",
   "metadata": {},
   "outputs": [],
   "source": []
  },
  {
   "cell_type": "code",
   "execution_count": 43,
   "id": "ac89e06d",
   "metadata": {},
   "outputs": [
    {
     "name": "stdout",
     "output_type": "stream",
     "text": [
      "42\n",
      "43\n",
      "13\n",
      "15\n",
      "23\n",
      "56\n"
     ]
    }
   ],
   "source": [
    "for usuario in set(assistiram):\n",
    "    print(usuario)"
   ]
  },
  {
   "cell_type": "code",
   "execution_count": 44,
   "id": "ea785fe0",
   "metadata": {},
   "outputs": [
    {
     "data": {
      "text/plain": [
       "{13, 15, 23, 42, 43, 56}"
      ]
     },
     "execution_count": 44,
     "metadata": {},
     "output_type": "execute_result"
    }
   ],
   "source": [
    "usuarios_data_science | usuarios_machine_learning # usando o operador de conjunto \"ou\" para fazer a uniao dos conjuntos"
   ]
  },
  {
   "cell_type": "code",
   "execution_count": 45,
   "id": "a6ee2122",
   "metadata": {},
   "outputs": [
    {
     "data": {
      "text/plain": [
       "{23, 56}"
      ]
     },
     "execution_count": 45,
     "metadata": {},
     "output_type": "execute_result"
    }
   ],
   "source": [
    "usuarios_data_science & usuarios_machine_learning # usando o operado de conjuntos \"e\" para intersecção"
   ]
  },
  {
   "cell_type": "code",
   "execution_count": 46,
   "id": "978cf6a4",
   "metadata": {},
   "outputs": [
    {
     "data": {
      "text/plain": [
       "{15, 43}"
      ]
     },
     "execution_count": 46,
     "metadata": {},
     "output_type": "execute_result"
    }
   ],
   "source": [
    "usuarios_data_science - usuarios_machine_learning # operador \"-\" para o que está em \"A\" mas não está em \"B\""
   ]
  },
  {
   "cell_type": "code",
   "execution_count": 47,
   "id": "0186dada",
   "metadata": {},
   "outputs": [
    {
     "data": {
      "text/plain": [
       "{13, 15, 42, 43}"
      ]
     },
     "execution_count": 47,
     "metadata": {},
     "output_type": "execute_result"
    }
   ],
   "source": [
    "usuarios_data_science ^ usuarios_machine_learning # operador ou exclusivo \"^\", une quem está no conjunto \"A\" mas nao em \"B\" e\n",
    "                                                  # quem está em \"B\" nas não está em \"A\""
   ]
  },
  {
   "cell_type": "code",
   "execution_count": 48,
   "id": "e44fc982",
   "metadata": {},
   "outputs": [
    {
     "data": {
      "text/plain": [
       "True"
      ]
     },
     "execution_count": 48,
     "metadata": {},
     "output_type": "execute_result"
    }
   ],
   "source": [
    "fez_ds_mas_nao_fez_ml = usuarios_data_science - usuarios_machine_learning\n",
    "15 in fez_ds_mas_nao_fez_ml"
   ]
  },
  {
   "cell_type": "code",
   "execution_count": 49,
   "id": "617d159f",
   "metadata": {},
   "outputs": [
    {
     "data": {
      "text/plain": [
       "False"
      ]
     },
     "execution_count": 49,
     "metadata": {},
     "output_type": "execute_result"
    }
   ],
   "source": [
    "23 in fez_ds_mas_nao_fez_ml"
   ]
  },
  {
   "cell_type": "code",
   "execution_count": 50,
   "id": "b8a2f0e2",
   "metadata": {},
   "outputs": [
    {
     "data": {
      "text/plain": [
       "6"
      ]
     },
     "execution_count": 50,
     "metadata": {},
     "output_type": "execute_result"
    }
   ],
   "source": [
    "usuarios = {1, 5, 76, 52, 13, 17}\n",
    "len(usuarios)"
   ]
  },
  {
   "cell_type": "code",
   "execution_count": 51,
   "id": "25c41e31",
   "metadata": {},
   "outputs": [
    {
     "data": {
      "text/plain": [
       "6"
      ]
     },
     "execution_count": 51,
     "metadata": {},
     "output_type": "execute_result"
    }
   ],
   "source": [
    "usuarios.add(13)\n",
    "len(usuarios)"
   ]
  },
  {
   "cell_type": "code",
   "execution_count": 52,
   "id": "84b5b655",
   "metadata": {},
   "outputs": [
    {
     "data": {
      "text/plain": [
       "7"
      ]
     },
     "execution_count": 52,
     "metadata": {},
     "output_type": "execute_result"
    }
   ],
   "source": [
    "usuarios.add(765)\n",
    "len(usuarios)"
   ]
  },
  {
   "cell_type": "code",
   "execution_count": 53,
   "id": "5830b549",
   "metadata": {},
   "outputs": [
    {
     "data": {
      "text/plain": [
       "{1, 5, 13, 17, 52, 76, 765}"
      ]
     },
     "execution_count": 53,
     "metadata": {},
     "output_type": "execute_result"
    }
   ],
   "source": [
    "usuarios\n"
   ]
  },
  {
   "cell_type": "code",
   "execution_count": 54,
   "id": "6a7b928e",
   "metadata": {},
   "outputs": [
    {
     "data": {
      "text/plain": [
       "frozenset({1, 5, 13, 17, 52, 76, 765})"
      ]
     },
     "execution_count": 54,
     "metadata": {},
     "output_type": "execute_result"
    }
   ],
   "source": [
    "usuarios = frozenset(usuarios) #frozenset congela o conjunto, o torna imutável\n",
    "usuarios"
   ]
  },
  {
   "cell_type": "code",
   "execution_count": 55,
   "id": "b02e3001",
   "metadata": {},
   "outputs": [
    {
     "data": {
      "text/plain": [
       "frozenset"
      ]
     },
     "execution_count": 55,
     "metadata": {},
     "output_type": "execute_result"
    }
   ],
   "source": [
    "type(usuarios)"
   ]
  },
  {
   "cell_type": "code",
   "execution_count": 56,
   "id": "faefcf73",
   "metadata": {},
   "outputs": [
    {
     "ename": "AttributeError",
     "evalue": "'frozenset' object has no attribute 'add'",
     "output_type": "error",
     "traceback": [
      "\u001b[1;31m---------------------------------------------------------------------------\u001b[0m",
      "\u001b[1;31mAttributeError\u001b[0m                            Traceback (most recent call last)",
      "\u001b[1;32m~\\AppData\\Local\\Temp/ipykernel_13540/380134773.py\u001b[0m in \u001b[0;36m<module>\u001b[1;34m\u001b[0m\n\u001b[1;32m----> 1\u001b[1;33m \u001b[0musuarios\u001b[0m\u001b[1;33m.\u001b[0m\u001b[0madd\u001b[0m\u001b[1;33m(\u001b[0m\u001b[1;36m134\u001b[0m\u001b[1;33m)\u001b[0m \u001b[1;31m#provando a imutabilidade do conjunto frozenset\u001b[0m\u001b[1;33m\u001b[0m\u001b[1;33m\u001b[0m\u001b[0m\n\u001b[0m",
      "\u001b[1;31mAttributeError\u001b[0m: 'frozenset' object has no attribute 'add'"
     ]
    }
   ],
   "source": [
    "usuarios.add(134) #provando a imutabilidade do conjunto frozenset"
   ]
  },
  {
   "cell_type": "code",
   "execution_count": 57,
   "id": "935e2896",
   "metadata": {},
   "outputs": [],
   "source": [
    "meu_texto = \"Olá eu sou o Gustavo e estou aprendendo a utilizar o python da melhor forma possivel e estou estudando na plataforma alura pelo grupo boticário\""
   ]
  },
  {
   "cell_type": "code",
   "execution_count": 58,
   "id": "76d3ac8c",
   "metadata": {},
   "outputs": [
    {
     "data": {
      "text/plain": [
       "['Olá',\n",
       " 'eu',\n",
       " 'sou',\n",
       " 'o',\n",
       " 'Gustavo',\n",
       " 'e',\n",
       " 'estou',\n",
       " 'aprendendo',\n",
       " 'a',\n",
       " 'utilizar',\n",
       " 'o',\n",
       " 'python',\n",
       " 'da',\n",
       " 'melhor',\n",
       " 'forma',\n",
       " 'possivel',\n",
       " 'e',\n",
       " 'estou',\n",
       " 'estudando',\n",
       " 'na',\n",
       " 'plataforma',\n",
       " 'alura',\n",
       " 'pelo',\n",
       " 'grupo',\n",
       " 'boticário']"
      ]
     },
     "execution_count": 58,
     "metadata": {},
     "output_type": "execute_result"
    }
   ],
   "source": [
    "meu_texto.split() \n",
    "#utilizando a função split e observando o texto se transformar em uma lista e mantendo sua forma original e ordenada"
   ]
  },
  {
   "cell_type": "code",
   "execution_count": 59,
   "id": "d52062b3",
   "metadata": {},
   "outputs": [
    {
     "data": {
      "text/plain": [
       "{'Gustavo',\n",
       " 'Olá',\n",
       " 'a',\n",
       " 'alura',\n",
       " 'aprendendo',\n",
       " 'boticário',\n",
       " 'da',\n",
       " 'e',\n",
       " 'estou',\n",
       " 'estudando',\n",
       " 'eu',\n",
       " 'forma',\n",
       " 'grupo',\n",
       " 'melhor',\n",
       " 'na',\n",
       " 'o',\n",
       " 'pelo',\n",
       " 'plataforma',\n",
       " 'possivel',\n",
       " 'python',\n",
       " 'sou',\n",
       " 'utilizar'}"
      ]
     },
     "execution_count": 59,
     "metadata": {},
     "output_type": "execute_result"
    }
   ],
   "source": [
    "# passando agora a função set e split para ver o texto dentro de um conjunto, que como característica\n",
    "# vem ordenada de outra forma e eliminando as duplicidades da string\n",
    "set(meu_texto.split()) "
   ]
  },
  {
   "cell_type": "markdown",
   "id": "4ac7b514",
   "metadata": {},
   "source": [
    "# Dicionário (Mapa etc)"
   ]
  },
  {
   "cell_type": "code",
   "execution_count": 60,
   "id": "d930ab74",
   "metadata": {},
   "outputs": [],
   "source": [
    "# criando um dicionário *formato(chave/valor)\n",
    "aparicoes = {\n",
    "    \"Guilherme\" : 1,\n",
    "    \"cachorro\" : 2,\n",
    "    \"nome\" : 2,\n",
    "    \"vindo\" : 1\n",
    "}"
   ]
  },
  {
   "cell_type": "code",
   "execution_count": 61,
   "id": "5bbed29c",
   "metadata": {},
   "outputs": [
    {
     "data": {
      "text/plain": [
       "dict"
      ]
     },
     "execution_count": 61,
     "metadata": {},
     "output_type": "execute_result"
    }
   ],
   "source": [
    "# verificando o tipo, observar a saída: dict = dicionário\n",
    "type(aparicoes) "
   ]
  },
  {
   "cell_type": "code",
   "execution_count": 62,
   "id": "89176934",
   "metadata": {},
   "outputs": [
    {
     "data": {
      "text/plain": [
       "1"
      ]
     },
     "execution_count": 62,
     "metadata": {},
     "output_type": "execute_result"
    }
   ],
   "source": [
    "aparicoes[\"Guilherme\"]"
   ]
  },
  {
   "cell_type": "code",
   "execution_count": 63,
   "id": "00fbe618",
   "metadata": {},
   "outputs": [
    {
     "data": {
      "text/plain": [
       "2"
      ]
     },
     "execution_count": 63,
     "metadata": {},
     "output_type": "execute_result"
    }
   ],
   "source": [
    "aparicoes[\"cachorro\"]"
   ]
  },
  {
   "cell_type": "code",
   "execution_count": 64,
   "id": "e3bb64c8",
   "metadata": {},
   "outputs": [
    {
     "ename": "KeyError",
     "evalue": "'xpto'",
     "output_type": "error",
     "traceback": [
      "\u001b[1;31m---------------------------------------------------------------------------\u001b[0m",
      "\u001b[1;31mKeyError\u001b[0m                                  Traceback (most recent call last)",
      "\u001b[1;32m~\\AppData\\Local\\Temp/ipykernel_13540/3308751899.py\u001b[0m in \u001b[0;36m<module>\u001b[1;34m\u001b[0m\n\u001b[1;32m----> 1\u001b[1;33m \u001b[0maparicoes\u001b[0m\u001b[1;33m[\u001b[0m\u001b[1;34m\"xpto\"\u001b[0m\u001b[1;33m]\u001b[0m\u001b[1;33m\u001b[0m\u001b[1;33m\u001b[0m\u001b[0m\n\u001b[0m",
      "\u001b[1;31mKeyError\u001b[0m: 'xpto'"
     ]
    }
   ],
   "source": [
    "aparicoes[\"xpto\"]"
   ]
  },
  {
   "cell_type": "code",
   "execution_count": 65,
   "id": "6b655dba",
   "metadata": {},
   "outputs": [
    {
     "data": {
      "text/plain": [
       "0"
      ]
     },
     "execution_count": 65,
     "metadata": {},
     "output_type": "execute_result"
    }
   ],
   "source": [
    " # passando a funçaão .get() no dicionário aparicoes para verificar a quantidade de vezes que o elemento\n",
    "# \"xpto\" aparece\n",
    "aparicoes.get(\"xpto\", 0)"
   ]
  },
  {
   "cell_type": "code",
   "execution_count": 66,
   "id": "56ab9d46",
   "metadata": {},
   "outputs": [
    {
     "data": {
      "text/plain": [
       "2"
      ]
     },
     "execution_count": 66,
     "metadata": {},
     "output_type": "execute_result"
    }
   ],
   "source": [
    "aparicoes.get(\"cachorro\", 0)"
   ]
  },
  {
   "cell_type": "markdown",
   "id": "82b8b58a",
   "metadata": {},
   "source": [
    "construtor"
   ]
  },
  {
   "cell_type": "code",
   "execution_count": 67,
   "id": "b2c282ff",
   "metadata": {},
   "outputs": [
    {
     "data": {
      "text/plain": [
       "{'Guilherme': 2, 'cachorro': 1}"
      ]
     },
     "execution_count": 67,
     "metadata": {},
     "output_type": "execute_result"
    }
   ],
   "source": [
    "# criando um dicionário apartir de um construtor\n",
    "aparicoes = dict(Guilherme = 2, cachorro = 1)\n",
    "aparicoes"
   ]
  },
  {
   "cell_type": "code",
   "execution_count": 68,
   "id": "4dfd4f97",
   "metadata": {},
   "outputs": [],
   "source": [
    "aparicoes = {\n",
    "    \"Guilherme\" : 1,\n",
    "    \"cachorro\" : 2,\n",
    "    \"nome\" : 2,\n",
    "    \"vindo\" : 1\n",
    "}"
   ]
  },
  {
   "cell_type": "code",
   "execution_count": 69,
   "id": "dd808aac",
   "metadata": {},
   "outputs": [
    {
     "name": "stdout",
     "output_type": "stream",
     "text": [
      "{'Guilherme': 1, 'cachorro': 2, 'nome': 2, 'vindo': 1, 'Carlos': 1}\n"
     ]
    }
   ],
   "source": [
    "# inserindo um elemento no dicionário\n",
    "aparicoes[\"Carlos\"] = 1\n",
    "print(aparicoes)"
   ]
  },
  {
   "cell_type": "code",
   "execution_count": 70,
   "id": "f3439c30",
   "metadata": {},
   "outputs": [
    {
     "data": {
      "text/plain": [
       "{'Guilherme': 1, 'cachorro': 2, 'nome': 2, 'vindo': 1, 'Carlos': 2}"
      ]
     },
     "execution_count": 70,
     "metadata": {},
     "output_type": "execute_result"
    }
   ],
   "source": [
    "# alterando o valor do elemento inserido anteriormente ao dicionário\n",
    "aparicoes[\"Carlos\"] = 2\n",
    "aparicoes"
   ]
  },
  {
   "cell_type": "code",
   "execution_count": 71,
   "id": "d538a39e",
   "metadata": {},
   "outputs": [
    {
     "data": {
      "text/plain": [
       "{'Guilherme': 1, 'cachorro': 2, 'nome': 2, 'vindo': 1}"
      ]
     },
     "execution_count": 71,
     "metadata": {},
     "output_type": "execute_result"
    }
   ],
   "source": [
    "# excluindo o elemento anteriomente adicionado ao dicionário\n",
    "del aparicoes[\"Carlos\"]\n",
    "aparicoes"
   ]
  },
  {
   "cell_type": "code",
   "execution_count": 72,
   "id": "e9af3341",
   "metadata": {},
   "outputs": [
    {
     "data": {
      "text/plain": [
       "True"
      ]
     },
     "execution_count": 72,
     "metadata": {},
     "output_type": "execute_result"
    }
   ],
   "source": [
    "\"cachorro\" in aparicoes # verificando a presença do elemento no dicionário"
   ]
  },
  {
   "cell_type": "code",
   "execution_count": 73,
   "id": "9184c003",
   "metadata": {},
   "outputs": [
    {
     "data": {
      "text/plain": [
       "False"
      ]
     },
     "execution_count": 73,
     "metadata": {},
     "output_type": "execute_result"
    }
   ],
   "source": [
    "\"Carlos\" in aparicoes # verificando a presença do elemento no dicionário"
   ]
  },
  {
   "cell_type": "code",
   "execution_count": 74,
   "id": "aa743940",
   "metadata": {},
   "outputs": [
    {
     "name": "stdout",
     "output_type": "stream",
     "text": [
      "Guilherme\n",
      "cachorro\n",
      "nome\n",
      "vindo\n"
     ]
    }
   ],
   "source": [
    "# exibindo os elementos fora do dicionário\n",
    "for elemento in aparicoes:\n",
    "    print(elemento)"
   ]
  },
  {
   "cell_type": "code",
   "execution_count": 75,
   "id": "d3d2d293",
   "metadata": {},
   "outputs": [
    {
     "name": "stdout",
     "output_type": "stream",
     "text": [
      "Guilherme\n",
      "cachorro\n",
      "nome\n",
      "vindo\n"
     ]
    }
   ],
   "source": [
    "# exibindo os elementos fora do dicionário, apenas a chave do elemento\n",
    "for elemento in aparicoes.keys():\n",
    "    print(elemento)"
   ]
  },
  {
   "cell_type": "code",
   "execution_count": 76,
   "id": "1b597760",
   "metadata": {},
   "outputs": [
    {
     "name": "stdout",
     "output_type": "stream",
     "text": [
      "1\n",
      "2\n",
      "2\n",
      "1\n"
     ]
    }
   ],
   "source": [
    "# exibindo os elementos fora do dicionário, apenas o valor do elemento\n",
    "for elemento in aparicoes.values():\n",
    "    print(elemento)"
   ]
  },
  {
   "cell_type": "code",
   "execution_count": 77,
   "id": "49c92522",
   "metadata": {},
   "outputs": [
    {
     "data": {
      "text/plain": [
       "True"
      ]
     },
     "execution_count": 77,
     "metadata": {},
     "output_type": "execute_result"
    }
   ],
   "source": [
    "1 in aparicoes.values() # verificando a presença do elemento no dicionário, apenas o valor do mesmo"
   ]
  },
  {
   "cell_type": "code",
   "execution_count": 78,
   "id": "1b9f9dad",
   "metadata": {},
   "outputs": [
    {
     "name": "stdout",
     "output_type": "stream",
     "text": [
      "Guilherme 1\n",
      "cachorro 2\n",
      "nome 2\n",
      "vindo 1\n"
     ]
    }
   ],
   "source": [
    "for elemento in aparicoes.keys():\n",
    "    valor = aparicoes[elemento]\n",
    "    print(elemento, valor)"
   ]
  },
  {
   "cell_type": "code",
   "execution_count": 79,
   "id": "8ca7204b",
   "metadata": {},
   "outputs": [
    {
     "name": "stdout",
     "output_type": "stream",
     "text": [
      "('Guilherme', 1)\n",
      "('cachorro', 2)\n",
      "('nome', 2)\n",
      "('vindo', 1)\n"
     ]
    }
   ],
   "source": [
    "# mostrando os elementos do dicionário, que gera uma saída em forma de tuplas\n",
    "for elemento in aparicoes.items():\n",
    "    print(elemento)"
   ]
  },
  {
   "cell_type": "code",
   "execution_count": 80,
   "id": "b5a9f408",
   "metadata": {},
   "outputs": [
    {
     "name": "stdout",
     "output_type": "stream",
     "text": [
      "Guilherme = 1\n",
      "cachorro = 2\n",
      "nome = 2\n",
      "vindo = 1\n"
     ]
    }
   ],
   "source": [
    "# mostrando os elementos do dicionário, agora cada elemento com seu valor e fora da tupla  \n",
    "for chave, valor in aparicoes.items():\n",
    "    print(chave, \"=\", valor)"
   ]
  },
  {
   "cell_type": "code",
   "execution_count": 81,
   "id": "acffceb3",
   "metadata": {},
   "outputs": [
    {
     "data": {
      "text/plain": [
       "['palavra Guilherme', 'palavra cachorro', 'palavra nome', 'palavra vindo']"
      ]
     },
     "execution_count": 81,
     "metadata": {},
     "output_type": "execute_result"
    }
   ],
   "source": [
    "# adicionando uma string dentro do dicionário, utilizando o list comprehension para gera a saída em formato lista\n",
    "[f\"palavra {chave}\" for chave in aparicoes.keys()]"
   ]
  },
  {
   "cell_type": "code",
   "execution_count": 82,
   "id": "0e73a7b1",
   "metadata": {},
   "outputs": [
    {
     "data": {
      "text/plain": [
       "{'olá': 1,\n",
       " 'eu': 1,\n",
       " 'sou': 1,\n",
       " 'o': 2,\n",
       " 'gustavo': 1,\n",
       " 'e': 2,\n",
       " 'estou': 2,\n",
       " 'aprendendo': 1,\n",
       " 'a': 1,\n",
       " 'utilizar': 1,\n",
       " 'python': 1,\n",
       " 'da': 1,\n",
       " 'melhor': 1,\n",
       " 'forma': 1,\n",
       " 'possivel': 1,\n",
       " 'estudando': 1,\n",
       " 'na': 1,\n",
       " 'plataforma': 1,\n",
       " 'alura': 1,\n",
       " 'pelo': 1,\n",
       " 'grupo': 1,\n",
       " 'boticário': 1}"
      ]
     },
     "execution_count": 82,
     "metadata": {},
     "output_type": "execute_result"
    }
   ],
   "source": [
    "# capturando dentro do texto abaixo, a quantidade de aparições de cada palavra\n",
    "meu_texto = \"Olá eu sou o Gustavo e estou aprendendo a utilizar o python da melhor forma possivel e estou estudando na plataforma alura pelo grupo boticário\"\n",
    "meu_texto = meu_texto.lower()\n",
    "\n",
    "aparicoes = {} # passando um dicioonário vazio para receber o texto\n",
    "\n",
    "# passando uma iteração no texto, realizando a quebra em palavras com a função .plit()\n",
    "# utilizando a função .get() para capturar a quantidade de aparições de cada palavra e fazendo o incremento\n",
    "for palavra in meu_texto.split():\n",
    "    ate_agora = aparicoes.get(palavra, 0)\n",
    "    aparicoes[palavra] = ate_agora + 1\n",
    "    \n",
    "aparicoes"
   ]
  },
  {
   "cell_type": "code",
   "execution_count": 83,
   "id": "128150d1",
   "metadata": {},
   "outputs": [],
   "source": [
    "from collections import defaultdict # importando o defalultdict"
   ]
  },
  {
   "cell_type": "code",
   "execution_count": 84,
   "id": "9ca7402a",
   "metadata": {},
   "outputs": [
    {
     "data": {
      "text/plain": [
       "defaultdict(int,\n",
       "            {'olá': 1,\n",
       "             'eu': 1,\n",
       "             'sou': 1,\n",
       "             'o': 2,\n",
       "             'gustavo': 1,\n",
       "             'e': 2,\n",
       "             'estou': 2,\n",
       "             'aprendendo': 1,\n",
       "             'a': 1,\n",
       "             'utilizar': 1,\n",
       "             'python': 1,\n",
       "             'da': 1,\n",
       "             'melhor': 1,\n",
       "             'forma': 1,\n",
       "             'possivel': 1,\n",
       "             'estudando': 1,\n",
       "             'na': 1,\n",
       "             'plataforma': 1,\n",
       "             'alura': 1,\n",
       "             'pelo': 1,\n",
       "             'grupo': 1,\n",
       "             'boticário': 1})"
      ]
     },
     "execution_count": 84,
     "metadata": {},
     "output_type": "execute_result"
    }
   ],
   "source": [
    "# utilizando o dafalultdict para conseguir o mesmo efeito anterior, porém eliminando algumas linhas de código\n",
    "# passando o parâmetro int, eleiminando a função .get()\n",
    "aparicoes = defaultdict(int)\n",
    "\n",
    "for palavra in meu_texto.split():\n",
    "    ate_agora = aparicoes[palavra]\n",
    "    aparicoes[palavra] = ate_agora + 1\n",
    "    \n",
    "aparicoes"
   ]
  },
  {
   "cell_type": "code",
   "execution_count": 85,
   "id": "92609ec4",
   "metadata": {},
   "outputs": [
    {
     "data": {
      "text/plain": [
       "0"
      ]
     },
     "execution_count": 85,
     "metadata": {},
     "output_type": "execute_result"
    }
   ],
   "source": [
    "int()"
   ]
  },
  {
   "cell_type": "code",
   "execution_count": 86,
   "id": "e8fef10e",
   "metadata": {},
   "outputs": [
    {
     "data": {
      "text/plain": [
       "0"
      ]
     },
     "execution_count": 86,
     "metadata": {},
     "output_type": "execute_result"
    }
   ],
   "source": [
    "dicionario = defaultdict(int)\n",
    "dicionario[\"gustavo\"]"
   ]
  },
  {
   "cell_type": "code",
   "execution_count": 87,
   "id": "ca32954e",
   "metadata": {},
   "outputs": [
    {
     "data": {
      "text/plain": [
       "15"
      ]
     },
     "execution_count": 87,
     "metadata": {},
     "output_type": "execute_result"
    }
   ],
   "source": [
    "dicionario[\"gustavo\"] = 15\n",
    "dicionario[\"gustavo\"]"
   ]
  },
  {
   "cell_type": "code",
   "execution_count": 88,
   "id": "8db0a85e",
   "metadata": {},
   "outputs": [
    {
     "data": {
      "text/plain": [
       "defaultdict(int,\n",
       "            {'olá': 1,\n",
       "             'eu': 1,\n",
       "             'sou': 1,\n",
       "             'o': 2,\n",
       "             'gustavo': 1,\n",
       "             'e': 2,\n",
       "             'estou': 2,\n",
       "             'aprendendo': 1,\n",
       "             'a': 1,\n",
       "             'utilizar': 1,\n",
       "             'python': 1,\n",
       "             'da': 1,\n",
       "             'melhor': 1,\n",
       "             'forma': 1,\n",
       "             'possivel': 1,\n",
       "             'estudando': 1,\n",
       "             'na': 1,\n",
       "             'plataforma': 1,\n",
       "             'alura': 1,\n",
       "             'pelo': 1,\n",
       "             'grupo': 1,\n",
       "             'boticário': 1})"
      ]
     },
     "execution_count": 88,
     "metadata": {},
     "output_type": "execute_result"
    }
   ],
   "source": [
    "# utilizando o dafalultdict para conseguir o mesmo efeito anterior, porém eliminando ainda mais linhas de código\n",
    "aparicoes = defaultdict(int)\n",
    "\n",
    "for palavra in meu_texto.split():\n",
    "    aparicoes[palavra] += 1\n",
    "    \n",
    "aparicoes"
   ]
  },
  {
   "cell_type": "code",
   "execution_count": 89,
   "id": "ca79590c",
   "metadata": {},
   "outputs": [],
   "source": [
    "# criando a classe Conta\n",
    "class Conta:\n",
    "    def __init__(self):\n",
    "        print(\"Criando uma conta\")"
   ]
  },
  {
   "cell_type": "code",
   "execution_count": 90,
   "id": "03158c4e",
   "metadata": {},
   "outputs": [
    {
     "name": "stdout",
     "output_type": "stream",
     "text": [
      "Criando uma conta\n"
     ]
    },
    {
     "data": {
      "text/plain": [
       "<__main__.Conta at 0x1a70c8a0a00>"
      ]
     },
     "execution_count": 90,
     "metadata": {},
     "output_type": "execute_result"
    }
   ],
   "source": [
    "# utilizando o defaultdict na criação de uma conta\n",
    "contas = defaultdict(Conta)\n",
    "contas[15]"
   ]
  },
  {
   "cell_type": "code",
   "execution_count": 91,
   "id": "faae2a38",
   "metadata": {},
   "outputs": [
    {
     "name": "stdout",
     "output_type": "stream",
     "text": [
      "Criando uma conta\n"
     ]
    },
    {
     "data": {
      "text/plain": [
       "<__main__.Conta at 0x1a70c8a0a30>"
      ]
     },
     "execution_count": 91,
     "metadata": {},
     "output_type": "execute_result"
    }
   ],
   "source": [
    "contas[17]"
   ]
  },
  {
   "cell_type": "code",
   "execution_count": 92,
   "id": "f94e3e4c",
   "metadata": {},
   "outputs": [],
   "source": [
    "from collections import Counter # importando a função Counter"
   ]
  },
  {
   "cell_type": "code",
   "execution_count": 93,
   "id": "904aef14",
   "metadata": {},
   "outputs": [
    {
     "data": {
      "text/plain": [
       "Counter({'olá': 1,\n",
       "         'eu': 1,\n",
       "         'sou': 1,\n",
       "         'o': 2,\n",
       "         'gustavo': 1,\n",
       "         'e': 2,\n",
       "         'estou': 2,\n",
       "         'aprendendo': 1,\n",
       "         'a': 1,\n",
       "         'utilizar': 1,\n",
       "         'python': 1,\n",
       "         'da': 1,\n",
       "         'melhor': 1,\n",
       "         'forma': 1,\n",
       "         'possivel': 1,\n",
       "         'estudando': 1,\n",
       "         'na': 1,\n",
       "         'plataforma': 1,\n",
       "         'alura': 1,\n",
       "         'pelo': 1,\n",
       "         'grupo': 1,\n",
       "         'boticário': 1})"
      ]
     },
     "execution_count": 93,
     "metadata": {},
     "output_type": "execute_result"
    }
   ],
   "source": [
    "# utilizando o Counter para realizar a mesma tarefa de contar as aparições dos elementos dentro do docionário\n",
    "aparicoes = Counter(meu_texto.split())\n",
    "\n",
    "aparicoes"
   ]
  },
  {
   "cell_type": "markdown",
   "id": "e7865ad5",
   "metadata": {},
   "source": [
    "# testando o uso de diversas coleções"
   ]
  },
  {
   "cell_type": "code",
   "execution_count": 94,
   "id": "cb4ed8d9",
   "metadata": {},
   "outputs": [],
   "source": [
    "texto1 = \"\"\"\n",
    "De vez em quando podemos ter algumas dúvidas sobre como usar o teclado e o mouse da forma que a pessoa instrutora está fazendo nos vídeos. Pensando nisso, criamos um guia para te auxiliar com algumas noções básicas de utilização do teclado e do mouse para programar usando o Scratch, P5.js e o Visual Studio Code VS Code.\n",
    "\n",
    "Neste guia vamos ver alguns comandos básicos como:\n",
    "\n",
    "Caracteres especiais, por exemplo, !@#$%¨&*()_+{}<>\n",
    "Ctrl e funcionalidades\n",
    "Fn e funcionalidades\n",
    "TouchPad\n",
    "\n",
    "Observe a imagem abaixo, você sabe quais são as funcionalidades da tecla Shift?\n",
    "\n",
    "Teclado padrão com letras brancas e teclas cinzas. A imagem está com destaque preto na tecla shift e nas teclas de aspas, números do 1 até o 0, hífen, underline, sinais de maior e menor, ponto de interrogação, chaves e colchetes e assentos.\n",
    "Quando pressionamos a tecla Shift e clicamos em alguma das outras teclas que estão em destaque, lembrando de apertar uma de cada vez, é possível digitar os símbolos que aparecem na parte superior das teclas. Por exemplo:\n",
    "\n",
    "Shift + ‘ = “\n",
    "Shift + 1 = !\n",
    "Shift + 2 = @\n",
    "Shift + 3 = #\n",
    "Ou seja, quando clicamos e mantemos pressionada a tecla Shift + alguma das teclas em destaque, teremos uma variedade de símbolos que usamos durante a produção do nosso código.\n",
    "\n",
    "Em quais momentos são necessários esses caracteres?\n",
    "\n",
    "Para programar em HTML, por exemplo, os caracteres < > serão bastante usados;\n",
    "Para programar em JavaScript nós faremos uso dos parênteses ( ), das chaves { } e das aspas ” ” ;\n",
    "No Scratch você pode utilizar todos esses para, por exemplo, escrever uma frase. Porém, diferente do HTML e do JavaScript, isso não fará com que seu código tenha erros de sintaxe.\n",
    "\"\"\""
   ]
  },
  {
   "cell_type": "code",
   "execution_count": 95,
   "id": "26b9824f",
   "metadata": {},
   "outputs": [],
   "source": [
    "texto2 = \"\"\"\n",
    "O que é python e como começar nessa linguagem!\n",
    "PAULO SILVEIRA:\n",
    "Python é uma linguagem de programação cada vez mais na moda e não é de agora, né, Guilherme?\n",
    "\n",
    "GUILHERME SILVEIRA:\n",
    "É, já tem alguns anos que vem crescendo a adoção de python no mercado e, o que é muito legal também, é que antes da gente utilizar no mercado, é muito fácil de você utilizar dentro de casa em coisas suas do dia a dia, para se acostumar, caso você ainda não esteja programando.\n",
    "\n",
    "PAULO SILVEIRA:\n",
    "Pois é, porque muita gente vai para o python por causa da web e os frameworks famosos da web como Django ou Flask, ou por causa do Data Science, por causa do socket learning, ou panda ou numpy. Mas se você está interessado no Python, a grande sacada é que pode usar como uma linguagem de script e aprender de uma maneira muito mais tranquila, ao invés de já cair nesse mundo de um monte de bibliotecas.\n",
    "\n",
    "Captura de tela com o Paulo Silveira explicando as formas de conhecimento do python e ao lado dele os nomes do frameworks web que utilizam python: django e flask.\n",
    "Em vez de você cair no Python já com essas bibliotecas pesadas e super interessantes que podem assustar um pouco no começo, você pode usar ele para trabalhar em casa, com scripts, não é mesmo? Para resolver alguns problemas pequenininhos de arquivo. É muito bacana mesmo!\n",
    "\n",
    "Programação criativa – Hipsters Ponto Tech #266\n",
    "\n",
    "\n",
    "GUILHERME SILVEIRA:\n",
    "Claro, o exemplo clássico é: você tem vários arquivos num diretório e precisa fazer algumas coisas com eles. Você tem várias fotos, vários arquivos, por qualquer motivo e, não só quer mover eles, mas renomear todos e fazer alguma tarefa com as imagens.\n",
    "\n",
    "Então é super fácil fazer esse tipo de trabalho com python. Vai acabar utilizando alguma biblioteca, vai utilizar o pillow, por exemplo, para trabalhar com edição de imagem, reduzir ela, mas é super simples, sabe? Para cada arquivo dentro de um diretório, abre a imagem, refaz o resize, salva o arquivo, acabou. 5 ou 6 linhas de código você tem isso feito para você. É muito fácil de começar a automatizar certas tarefas que precisa no dia a dia.\n",
    "\n",
    "PAULO SILVEIRA:\n",
    "Então, se você está sempre usando Node JS ou JavaScript para esses scripts, tem a oportunidade de começar com Python e aprender essa linguagem que realmente nasceu no século passado, no milênio passado e que tem ganhado muita adoção.\n",
    "\n",
    "Como usar python para automatizar tarefas?\n",
    "Veja na prática como usar python para automatizar tarefas do dia a dia!\n",
    "\n",
    "Automação com Python - Hipsters.Talks #19\n",
    "\n",
    "\n",
    "Python no Data Science e Machine Learning\n",
    "PAULO SILVEIRA:\n",
    "A verdade é, teve a fase Web que ganhou muita exposição e agora com o Data Science florescendo e tendo muita vaga de emprego, as bibliotecas principais costumam ser lançadas e escritas primeiro em Python. Não parece ser assim?\n",
    "\n",
    "GUILHERME SILVEIRA:\n",
    "Principalmente nessa área de data science e machine learning, sim, a maior parte tem saído em python primeiro.\n",
    "\n",
    "Até porque você já tem todo esse ambiente, com muita infraestrutura, com muita biblioteca, muita coisa pronta, então é mais fácil já utilizar isso. E se algo funciona, se dá certo, acaba migrando para outras linguagens que podem dar suporte. Hoje Python com certeza é a primeira para data science e machine learning.\n",
    "\n",
    "Principais características da linguagem python\n",
    "PAULO SILVEIRA:\n",
    "E pra quem vai brincar com a linguagem, quais são as características principais dela?\n",
    "\n",
    "Porque todo mundo que começa com python fala “ah, aquela linguagem que não tem abre chave, fecha chave, e tudo é no Tab, nos espaços, para definir o que está dentro do que, o que está aninhado com o quê\". Mas obviamente essas não suas características principais.\n",
    "\n",
    "É orientada a objetos ou não é? É funcional ou não é? A tipagem dela, a gente declara o tipo de variável ou não, quais são as principais características para quem está interessado numa linguagem nova?\n",
    "\n",
    "Python – Hipsters #122\n",
    "\n",
    "\n",
    "GUILHERME SILVEIRA:\n",
    "Você pode utilizar python de uma maneira orientada à objetos, pode criar classes, objetos, métodos, herança e várias outras coisas, tranquilo, dá para trabalhar dessa maneira.\n",
    "\n",
    "Você vai encontrar várias bibliotecas disponíveis, de vários módulos que utilizam orientação à objetos para organizar o código. Como o pandas, você vai ter várias coisas do gênero. E vai encontrar bibliotecas que tentam utilizar mais o paradigma ou de característica de programação funcional ou você pode utilizar outras bibliotecas como o fklearn e bibliotecas que são específicas, com uma maneira de programar funcional, para resolver problemas de machine learning.\n",
    "\n",
    "Então você tem bibliotecas e pode programar das duas maneiras. É claro que programação funcional, quando a gente fala, tem diversos aspectos que cada linguagem aborda de uma maneira diferente, então quando se fala, por exemplo, de imutabilidade, por padrão no python, as várias bibliotecas, as várias coisas que você cria, não vão ter imutabilidade. Então se quiser ter os vários benefícios de funcional com imutabilidade ou de O.O (Orientação à Objetos) com imutabilidade, vai ter que correr atrás na unha, porque não é o padrão da linguagem.\n",
    "\n",
    "Essas são algumas características de funcional e orientação à objetos que python suporta.\n",
    "\n",
    "\"\"\""
   ]
  },
  {
   "cell_type": "code",
   "execution_count": 96,
   "id": "6e4ad819",
   "metadata": {},
   "outputs": [
    {
     "data": {
      "text/plain": [
       "['De',\n",
       " 'vez',\n",
       " 'em',\n",
       " 'quando',\n",
       " 'podemos',\n",
       " 'ter',\n",
       " 'algumas',\n",
       " 'dúvidas',\n",
       " 'sobre',\n",
       " 'como',\n",
       " 'usar',\n",
       " 'o',\n",
       " 'teclado',\n",
       " 'e',\n",
       " 'o',\n",
       " 'mouse',\n",
       " 'da',\n",
       " 'forma',\n",
       " 'que',\n",
       " 'a',\n",
       " 'pessoa',\n",
       " 'instrutora',\n",
       " 'está',\n",
       " 'fazendo',\n",
       " 'nos',\n",
       " 'vídeos.',\n",
       " 'Pensando',\n",
       " 'nisso,',\n",
       " 'criamos',\n",
       " 'um',\n",
       " 'guia',\n",
       " 'para',\n",
       " 'te',\n",
       " 'auxiliar',\n",
       " 'com',\n",
       " 'algumas',\n",
       " 'noções',\n",
       " 'básicas',\n",
       " 'de',\n",
       " 'utilização',\n",
       " 'do',\n",
       " 'teclado',\n",
       " 'e',\n",
       " 'do',\n",
       " 'mouse',\n",
       " 'para',\n",
       " 'programar',\n",
       " 'usando',\n",
       " 'o',\n",
       " 'Scratch,',\n",
       " 'P5.js',\n",
       " 'e',\n",
       " 'o',\n",
       " 'Visual',\n",
       " 'Studio',\n",
       " 'Code',\n",
       " 'VS',\n",
       " 'Code.',\n",
       " 'Neste',\n",
       " 'guia',\n",
       " 'vamos',\n",
       " 'ver',\n",
       " 'alguns',\n",
       " 'comandos',\n",
       " 'básicos',\n",
       " 'como:',\n",
       " 'Caracteres',\n",
       " 'especiais,',\n",
       " 'por',\n",
       " 'exemplo,',\n",
       " '!@#$%¨&*()_+{}<>',\n",
       " 'Ctrl',\n",
       " 'e',\n",
       " 'funcionalidades',\n",
       " 'Fn',\n",
       " 'e',\n",
       " 'funcionalidades',\n",
       " 'TouchPad',\n",
       " 'Observe',\n",
       " 'a',\n",
       " 'imagem',\n",
       " 'abaixo,',\n",
       " 'você',\n",
       " 'sabe',\n",
       " 'quais',\n",
       " 'são',\n",
       " 'as',\n",
       " 'funcionalidades',\n",
       " 'da',\n",
       " 'tecla',\n",
       " 'Shift?',\n",
       " 'Teclado',\n",
       " 'padrão',\n",
       " 'com',\n",
       " 'letras',\n",
       " 'brancas',\n",
       " 'e',\n",
       " 'teclas',\n",
       " 'cinzas.',\n",
       " 'A',\n",
       " 'imagem',\n",
       " 'está',\n",
       " 'com',\n",
       " 'destaque',\n",
       " 'preto',\n",
       " 'na',\n",
       " 'tecla',\n",
       " 'shift',\n",
       " 'e',\n",
       " 'nas',\n",
       " 'teclas',\n",
       " 'de',\n",
       " 'aspas,',\n",
       " 'números',\n",
       " 'do',\n",
       " '1',\n",
       " 'até',\n",
       " 'o',\n",
       " '0,',\n",
       " 'hífen,',\n",
       " 'underline,',\n",
       " 'sinais',\n",
       " 'de',\n",
       " 'maior',\n",
       " 'e',\n",
       " 'menor,',\n",
       " 'ponto',\n",
       " 'de',\n",
       " 'interrogação,',\n",
       " 'chaves',\n",
       " 'e',\n",
       " 'colchetes',\n",
       " 'e',\n",
       " 'assentos.',\n",
       " 'Quando',\n",
       " 'pressionamos',\n",
       " 'a',\n",
       " 'tecla',\n",
       " 'Shift',\n",
       " 'e',\n",
       " 'clicamos',\n",
       " 'em',\n",
       " 'alguma',\n",
       " 'das',\n",
       " 'outras',\n",
       " 'teclas',\n",
       " 'que',\n",
       " 'estão',\n",
       " 'em',\n",
       " 'destaque,',\n",
       " 'lembrando',\n",
       " 'de',\n",
       " 'apertar',\n",
       " 'uma',\n",
       " 'de',\n",
       " 'cada',\n",
       " 'vez,',\n",
       " 'é',\n",
       " 'possível',\n",
       " 'digitar',\n",
       " 'os',\n",
       " 'símbolos',\n",
       " 'que',\n",
       " 'aparecem',\n",
       " 'na',\n",
       " 'parte',\n",
       " 'superior',\n",
       " 'das',\n",
       " 'teclas.',\n",
       " 'Por',\n",
       " 'exemplo:',\n",
       " 'Shift',\n",
       " '+',\n",
       " '‘',\n",
       " '=',\n",
       " '“',\n",
       " 'Shift',\n",
       " '+',\n",
       " '1',\n",
       " '=',\n",
       " '!',\n",
       " 'Shift',\n",
       " '+',\n",
       " '2',\n",
       " '=',\n",
       " '@',\n",
       " 'Shift',\n",
       " '+',\n",
       " '3',\n",
       " '=',\n",
       " '#',\n",
       " 'Ou',\n",
       " 'seja,',\n",
       " 'quando',\n",
       " 'clicamos',\n",
       " 'e',\n",
       " 'mantemos',\n",
       " 'pressionada',\n",
       " 'a',\n",
       " 'tecla',\n",
       " 'Shift',\n",
       " '+',\n",
       " 'alguma',\n",
       " 'das',\n",
       " 'teclas',\n",
       " 'em',\n",
       " 'destaque,',\n",
       " 'teremos',\n",
       " 'uma',\n",
       " 'variedade',\n",
       " 'de',\n",
       " 'símbolos',\n",
       " 'que',\n",
       " 'usamos',\n",
       " 'durante',\n",
       " 'a',\n",
       " 'produção',\n",
       " 'do',\n",
       " 'nosso',\n",
       " 'código.',\n",
       " 'Em',\n",
       " 'quais',\n",
       " 'momentos',\n",
       " 'são',\n",
       " 'necessários',\n",
       " 'esses',\n",
       " 'caracteres?',\n",
       " 'Para',\n",
       " 'programar',\n",
       " 'em',\n",
       " 'HTML,',\n",
       " 'por',\n",
       " 'exemplo,',\n",
       " 'os',\n",
       " 'caracteres',\n",
       " '<',\n",
       " '>',\n",
       " 'serão',\n",
       " 'bastante',\n",
       " 'usados;',\n",
       " 'Para',\n",
       " 'programar',\n",
       " 'em',\n",
       " 'JavaScript',\n",
       " 'nós',\n",
       " 'faremos',\n",
       " 'uso',\n",
       " 'dos',\n",
       " 'parênteses',\n",
       " '(',\n",
       " '),',\n",
       " 'das',\n",
       " 'chaves',\n",
       " '{',\n",
       " '}',\n",
       " 'e',\n",
       " 'das',\n",
       " 'aspas',\n",
       " '”',\n",
       " '”',\n",
       " ';',\n",
       " 'No',\n",
       " 'Scratch',\n",
       " 'você',\n",
       " 'pode',\n",
       " 'utilizar',\n",
       " 'todos',\n",
       " 'esses',\n",
       " 'para,',\n",
       " 'por',\n",
       " 'exemplo,',\n",
       " 'escrever',\n",
       " 'uma',\n",
       " 'frase.',\n",
       " 'Porém,',\n",
       " 'diferente',\n",
       " 'do',\n",
       " 'HTML',\n",
       " 'e',\n",
       " 'do',\n",
       " 'JavaScript,',\n",
       " 'isso',\n",
       " 'não',\n",
       " 'fará',\n",
       " 'com',\n",
       " 'que',\n",
       " 'seu',\n",
       " 'código',\n",
       " 'tenha',\n",
       " 'erros',\n",
       " 'de',\n",
       " 'sintaxe.']"
      ]
     },
     "execution_count": 96,
     "metadata": {},
     "output_type": "execute_result"
    }
   ],
   "source": [
    "texto1.split()"
   ]
  },
  {
   "cell_type": "code",
   "execution_count": 97,
   "id": "f4b0c497",
   "metadata": {},
   "outputs": [
    {
     "name": "stdout",
     "output_type": "stream",
     "text": [
      "g\n",
      "u\n",
      "i\n",
      "l\n",
      "h\n",
      "e\n",
      "r\n",
      "m\n",
      "e\n"
     ]
    }
   ],
   "source": [
    "# provando que uma string é uma lista de caracteres\n",
    "for x in \"guilherme\":\n",
    "    print(x)"
   ]
  },
  {
   "cell_type": "code",
   "execution_count": 98,
   "id": "7286b092",
   "metadata": {},
   "outputs": [
    {
     "name": "stdout",
     "output_type": "stream",
     "text": [
      "('\\n', 0.015587529976019185)\n",
      "('d', 0.039568345323741004)\n",
      "('e', 0.09052757793764989)\n",
      "(' ', 0.1642685851318945)\n",
      "('v', 0.01079136690647482)\n",
      "('z', 0.0035971223021582736)\n",
      "('m', 0.03537170263788969)\n",
      "('q', 0.0077937649880095924)\n",
      "('u', 0.02877697841726619)\n",
      "('a', 0.09292565947242207)\n",
      "('n', 0.030575539568345324)\n",
      "('o', 0.0737410071942446)\n",
      "('p', 0.023980815347721823)\n",
      "('s', 0.08573141486810551)\n",
      "('t', 0.04016786570743405)\n",
      "('r', 0.046163069544364506)\n",
      "('l', 0.023980815347721823)\n",
      "('g', 0.009592326139088728)\n",
      "('ú', 0.001199040767386091)\n",
      "('i', 0.03537170263788969)\n",
      "('b', 0.006594724220623501)\n",
      "('c', 0.03597122302158273)\n",
      "('f', 0.011390887290167866)\n",
      "('á', 0.0035971223021582736)\n",
      "('í', 0.002997601918465228)\n",
      "('.', 0.00539568345323741)\n",
      "(',', 0.013189448441247002)\n",
      "('x', 0.004196642685851319)\n",
      "('ç', 0.002398081534772182)\n",
      "('õ', 0.0005995203836930455)\n",
      "('ã', 0.00539568345323741)\n",
      "('h', 0.01079136690647482)\n",
      "('5', 0.0005995203836930455)\n",
      "('j', 0.002398081534772182)\n",
      "(':', 0.001199040767386091)\n",
      "('!', 0.001199040767386091)\n",
      "('@', 0.001199040767386091)\n",
      "('#', 0.001199040767386091)\n",
      "('$', 0.0005995203836930455)\n",
      "('%', 0.0005995203836930455)\n",
      "('¨', 0.0005995203836930455)\n",
      "('&', 0.0005995203836930455)\n",
      "('*', 0.0005995203836930455)\n",
      "('(', 0.001199040767386091)\n",
      "(')', 0.001199040767386091)\n",
      "('_', 0.0005995203836930455)\n",
      "('+', 0.0035971223021582736)\n",
      "('{', 0.001199040767386091)\n",
      "('}', 0.001199040767386091)\n",
      "('<', 0.001199040767386091)\n",
      "('>', 0.001199040767386091)\n",
      "('ê', 0.0017985611510791368)\n",
      "('?', 0.001199040767386091)\n",
      "('1', 0.001199040767386091)\n",
      "('é', 0.0017985611510791368)\n",
      "('0', 0.0005995203836930455)\n",
      "('‘', 0.0005995203836930455)\n",
      "('=', 0.002398081534772182)\n",
      "('“', 0.0005995203836930455)\n",
      "('2', 0.0005995203836930455)\n",
      "('3', 0.0005995203836930455)\n",
      "('ó', 0.0017985611510791368)\n",
      "(';', 0.001199040767386091)\n",
      "('”', 0.001199040767386091)\n"
     ]
    }
   ],
   "source": [
    "# utilizando o Counter para quantificar a aparição de cada letra dentro do texto1, com o auxilio da função .lower()\n",
    "# somando a aparição de cada letra dentro do texto\n",
    "# iterando para mostrar cada letra e sua frequência de aprições dentro do texto\n",
    "aparicoes = Counter(texto1.lower())\n",
    "total_de_caracteres = sum(aparicoes.values())\n",
    "for letra, frequencia in aparicoes.items():\n",
    "    tupla = (letra, frequencia / total_de_caracteres)\n",
    "    print(tupla)"
   ]
  },
  {
   "cell_type": "code",
   "execution_count": 99,
   "id": "e5aba194",
   "metadata": {},
   "outputs": [
    {
     "data": {
      "text/plain": [
       "[('\\n', 0.015587529976019185),\n",
       " ('d', 0.039568345323741004),\n",
       " ('e', 0.09052757793764989),\n",
       " (' ', 0.1642685851318945),\n",
       " ('v', 0.01079136690647482),\n",
       " ('z', 0.0035971223021582736),\n",
       " ('m', 0.03537170263788969),\n",
       " ('q', 0.0077937649880095924),\n",
       " ('u', 0.02877697841726619),\n",
       " ('a', 0.09292565947242207),\n",
       " ('n', 0.030575539568345324),\n",
       " ('o', 0.0737410071942446),\n",
       " ('p', 0.023980815347721823),\n",
       " ('s', 0.08573141486810551),\n",
       " ('t', 0.04016786570743405),\n",
       " ('r', 0.046163069544364506),\n",
       " ('l', 0.023980815347721823),\n",
       " ('g', 0.009592326139088728),\n",
       " ('ú', 0.001199040767386091),\n",
       " ('i', 0.03537170263788969),\n",
       " ('b', 0.006594724220623501),\n",
       " ('c', 0.03597122302158273),\n",
       " ('f', 0.011390887290167866),\n",
       " ('á', 0.0035971223021582736),\n",
       " ('í', 0.002997601918465228),\n",
       " ('.', 0.00539568345323741),\n",
       " (',', 0.013189448441247002),\n",
       " ('x', 0.004196642685851319),\n",
       " ('ç', 0.002398081534772182),\n",
       " ('õ', 0.0005995203836930455),\n",
       " ('ã', 0.00539568345323741),\n",
       " ('h', 0.01079136690647482),\n",
       " ('5', 0.0005995203836930455),\n",
       " ('j', 0.002398081534772182),\n",
       " (':', 0.001199040767386091),\n",
       " ('!', 0.001199040767386091),\n",
       " ('@', 0.001199040767386091),\n",
       " ('#', 0.001199040767386091),\n",
       " ('$', 0.0005995203836930455),\n",
       " ('%', 0.0005995203836930455),\n",
       " ('¨', 0.0005995203836930455),\n",
       " ('&', 0.0005995203836930455),\n",
       " ('*', 0.0005995203836930455),\n",
       " ('(', 0.001199040767386091),\n",
       " (')', 0.001199040767386091),\n",
       " ('_', 0.0005995203836930455),\n",
       " ('+', 0.0035971223021582736),\n",
       " ('{', 0.001199040767386091),\n",
       " ('}', 0.001199040767386091),\n",
       " ('<', 0.001199040767386091),\n",
       " ('>', 0.001199040767386091),\n",
       " ('ê', 0.0017985611510791368),\n",
       " ('?', 0.001199040767386091),\n",
       " ('1', 0.001199040767386091),\n",
       " ('é', 0.0017985611510791368),\n",
       " ('0', 0.0005995203836930455),\n",
       " ('‘', 0.0005995203836930455),\n",
       " ('=', 0.002398081534772182),\n",
       " ('“', 0.0005995203836930455),\n",
       " ('2', 0.0005995203836930455),\n",
       " ('3', 0.0005995203836930455),\n",
       " ('ó', 0.0017985611510791368),\n",
       " (';', 0.001199040767386091),\n",
       " ('”', 0.001199040767386091)]"
      ]
     },
     "execution_count": 99,
     "metadata": {},
     "output_type": "execute_result"
    }
   ],
   "source": [
    "# utilizando o Counter para quantificar a aparição de cada letra dentro do texto1, com o auxilio da função .lower()\n",
    "# somando a aparição de cada letra dentro do texto\n",
    "# iterando para mostrar cada letra e sua frequência de aprições dentro do texto, AGORA COM LIST COMPREHENSION\n",
    "aparicoes = Counter(texto1.lower())\n",
    "total_de_caracteres = sum(aparicoes.values())\n",
    "[(letra, frequencia / total_de_caracteres) for letra, frequencia in aparicoes.items()]"
   ]
  },
  {
   "cell_type": "code",
   "execution_count": 100,
   "id": "107f912c",
   "metadata": {},
   "outputs": [
    {
     "data": {
      "text/plain": [
       "{'\\n': 0.015587529976019185,\n",
       " 'd': 0.039568345323741004,\n",
       " 'e': 0.09052757793764989,\n",
       " ' ': 0.1642685851318945,\n",
       " 'v': 0.01079136690647482,\n",
       " 'z': 0.0035971223021582736,\n",
       " 'm': 0.03537170263788969,\n",
       " 'q': 0.0077937649880095924,\n",
       " 'u': 0.02877697841726619,\n",
       " 'a': 0.09292565947242207,\n",
       " 'n': 0.030575539568345324,\n",
       " 'o': 0.0737410071942446,\n",
       " 'p': 0.023980815347721823,\n",
       " 's': 0.08573141486810551,\n",
       " 't': 0.04016786570743405,\n",
       " 'r': 0.046163069544364506,\n",
       " 'l': 0.023980815347721823,\n",
       " 'g': 0.009592326139088728,\n",
       " 'ú': 0.001199040767386091,\n",
       " 'i': 0.03537170263788969,\n",
       " 'b': 0.006594724220623501,\n",
       " 'c': 0.03597122302158273,\n",
       " 'f': 0.011390887290167866,\n",
       " 'á': 0.0035971223021582736,\n",
       " 'í': 0.002997601918465228,\n",
       " '.': 0.00539568345323741,\n",
       " ',': 0.013189448441247002,\n",
       " 'x': 0.004196642685851319,\n",
       " 'ç': 0.002398081534772182,\n",
       " 'õ': 0.0005995203836930455,\n",
       " 'ã': 0.00539568345323741,\n",
       " 'h': 0.01079136690647482,\n",
       " '5': 0.0005995203836930455,\n",
       " 'j': 0.002398081534772182,\n",
       " ':': 0.001199040767386091,\n",
       " '!': 0.001199040767386091,\n",
       " '@': 0.001199040767386091,\n",
       " '#': 0.001199040767386091,\n",
       " '$': 0.0005995203836930455,\n",
       " '%': 0.0005995203836930455,\n",
       " '¨': 0.0005995203836930455,\n",
       " '&': 0.0005995203836930455,\n",
       " '*': 0.0005995203836930455,\n",
       " '(': 0.001199040767386091,\n",
       " ')': 0.001199040767386091,\n",
       " '_': 0.0005995203836930455,\n",
       " '+': 0.0035971223021582736,\n",
       " '{': 0.001199040767386091,\n",
       " '}': 0.001199040767386091,\n",
       " '<': 0.001199040767386091,\n",
       " '>': 0.001199040767386091,\n",
       " 'ê': 0.0017985611510791368,\n",
       " '?': 0.001199040767386091,\n",
       " '1': 0.001199040767386091,\n",
       " 'é': 0.0017985611510791368,\n",
       " '0': 0.0005995203836930455,\n",
       " '‘': 0.0005995203836930455,\n",
       " '=': 0.002398081534772182,\n",
       " '“': 0.0005995203836930455,\n",
       " '2': 0.0005995203836930455,\n",
       " '3': 0.0005995203836930455,\n",
       " 'ó': 0.0017985611510791368,\n",
       " ';': 0.001199040767386091,\n",
       " '”': 0.001199040767386091}"
      ]
     },
     "execution_count": 100,
     "metadata": {},
     "output_type": "execute_result"
    }
   ],
   "source": [
    "# Agora passando o texto para um dicionário(dict)\n",
    "aparicoes = Counter(texto1.lower())\n",
    "total_de_caracteres = sum(aparicoes.values())\n",
    "proporcoes = [(letra, frequencia / total_de_caracteres) for letra, frequencia in aparicoes.items()]\n",
    "proporcoes = dict(proporcoes)\n",
    "proporcoes"
   ]
  },
  {
   "cell_type": "code",
   "execution_count": 101,
   "id": "1d35ab8d",
   "metadata": {},
   "outputs": [],
   "source": [
    "# colcando o códiogo em uma função que recebe o texto, formatando a saída e utilizando o most_common para filtrar\n",
    "def analiza_frequencia_de_letras(texto):\n",
    "    aparicoes = Counter(texto.lower())\n",
    "    total_de_caracteres = sum(aparicoes.values())\n",
    "    \n",
    "    proporcoes = [(letra, frequencia / total_de_caracteres) for letra, frequencia in aparicoes.items()]\n",
    "    proporcoes = Counter(dict(proporcoes))\n",
    "    mais_comuns = proporcoes.most_common(10)\n",
    "    for caractere, proporcao in mais_comuns:\n",
    "        print(f\"{caractere} => {proporcao * 100:.2f}%\")"
   ]
  },
  {
   "cell_type": "code",
   "execution_count": 102,
   "id": "55439af4",
   "metadata": {},
   "outputs": [
    {
     "name": "stdout",
     "output_type": "stream",
     "text": [
      "  => 16.43%\n",
      "a => 9.29%\n",
      "e => 9.05%\n",
      "s => 8.57%\n",
      "o => 7.37%\n",
      "r => 4.62%\n",
      "t => 4.02%\n",
      "d => 3.96%\n",
      "c => 3.60%\n",
      "m => 3.54%\n"
     ]
    }
   ],
   "source": [
    "#chamando a função para o texto1\n",
    "analiza_frequencia_de_letras(texto1)"
   ]
  },
  {
   "cell_type": "code",
   "execution_count": 103,
   "id": "3d135a4b",
   "metadata": {},
   "outputs": [
    {
     "name": "stdout",
     "output_type": "stream",
     "text": [
      "  => 16.02%\n",
      "a => 10.09%\n",
      "e => 8.27%\n",
      "o => 7.56%\n",
      "i => 5.57%\n",
      "s => 5.35%\n",
      "r => 5.24%\n",
      "t => 4.00%\n",
      "n => 3.98%\n",
      "m => 3.56%\n"
     ]
    }
   ],
   "source": [
    "#chamando a função para o texto2\n",
    "analiza_frequencia_de_letras(texto2)"
   ]
  },
  {
   "cell_type": "code",
   "execution_count": null,
   "id": "c76292ad",
   "metadata": {},
   "outputs": [],
   "source": []
  },
  {
   "cell_type": "code",
   "execution_count": null,
   "id": "35362afa",
   "metadata": {},
   "outputs": [],
   "source": []
  }
 ],
 "metadata": {
  "kernelspec": {
   "display_name": "Python 3 (ipykernel)",
   "language": "python",
   "name": "python3"
  },
  "language_info": {
   "codemirror_mode": {
    "name": "ipython",
    "version": 3
   },
   "file_extension": ".py",
   "mimetype": "text/x-python",
   "name": "python",
   "nbconvert_exporter": "python",
   "pygments_lexer": "ipython3",
   "version": "3.9.7"
  }
 },
 "nbformat": 4,
 "nbformat_minor": 5
}
