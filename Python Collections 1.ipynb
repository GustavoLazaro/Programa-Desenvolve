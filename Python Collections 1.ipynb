{
 "cells": [
  {
   "cell_type": "code",
   "execution_count": 1,
   "id": "38775389",
   "metadata": {
    "scrolled": true
   },
   "outputs": [
    {
     "data": {
      "text/plain": [
       "[13, 34, 42, 25, 47]"
      ]
     },
     "execution_count": 1,
     "metadata": {},
     "output_type": "execute_result"
    }
   ],
   "source": [
    "# criando uma lista em python\n",
    "idades = [13, 34, 42, 25, 47]\n",
    "idades"
   ]
  },
  {
   "cell_type": "code",
   "execution_count": 2,
   "id": "fe1e6957",
   "metadata": {},
   "outputs": [
    {
     "name": "stdout",
     "output_type": "stream",
     "text": [
      "[13, 34, 42, 25, 47]\n"
     ]
    }
   ],
   "source": [
    "print(idades)"
   ]
  },
  {
   "cell_type": "code",
   "execution_count": 3,
   "id": "04b9fec5",
   "metadata": {},
   "outputs": [],
   "source": [
    "# usando o .append para lançar valores dentro da lista\n",
    "idades.append(50)"
   ]
  },
  {
   "cell_type": "code",
   "execution_count": 4,
   "id": "cfd2fd78",
   "metadata": {},
   "outputs": [
    {
     "name": "stdout",
     "output_type": "stream",
     "text": [
      "[13, 34, 42, 25, 47, 50]\n"
     ]
    }
   ],
   "source": [
    "print(idades)"
   ]
  },
  {
   "cell_type": "code",
   "execution_count": 5,
   "id": "262035b6",
   "metadata": {},
   "outputs": [
    {
     "data": {
      "text/plain": [
       "[13, 34, 25, 47, 50]"
      ]
     },
     "execution_count": 5,
     "metadata": {},
     "output_type": "execute_result"
    }
   ],
   "source": [
    "# usando a função .remove para remover um valor específico(passado como parâmetro) dentro da lista\n",
    "idades.remove(42)\n",
    "idades"
   ]
  },
  {
   "cell_type": "code",
   "execution_count": 6,
   "id": "867d2ae5",
   "metadata": {},
   "outputs": [
    {
     "data": {
      "text/plain": [
       "[13, 34, 25, 47, 50, 59, 44, 20]"
      ]
     },
     "execution_count": 6,
     "metadata": {},
     "output_type": "execute_result"
    }
   ],
   "source": [
    "# usando a função .extend para inserir uma lista de valores no final da lista original\n",
    "idades.extend([59, 44, 20])\n",
    "idades\n"
   ]
  },
  {
   "cell_type": "code",
   "execution_count": 7,
   "id": "e7a4e776",
   "metadata": {},
   "outputs": [
    {
     "data": {
      "text/plain": [
       "[13, 34, 25, 47, 50, 59, 44, 20, 18, 55, 42]"
      ]
     },
     "execution_count": 7,
     "metadata": {},
     "output_type": "execute_result"
    }
   ],
   "source": [
    "idades.extend([18, 55, 42])\n",
    "idades"
   ]
  },
  {
   "cell_type": "code",
   "execution_count": 8,
   "id": "87a54367",
   "metadata": {},
   "outputs": [
    {
     "name": "stdout",
     "output_type": "stream",
     "text": [
      "[13, 34, 23, 25, 47, 50, 59, 44, 20, 18, 55, 42]\n"
     ]
    }
   ],
   "source": [
    "# a função .insert lança valores em índices específicos(passados como parâmetro)\n",
    "idades.insert(2, 23)\n",
    "print(idades)"
   ]
  },
  {
   "cell_type": "code",
   "execution_count": 9,
   "id": "40a98fac",
   "metadata": {
    "scrolled": true
   },
   "outputs": [
    {
     "name": "stdout",
     "output_type": "stream",
     "text": [
      "13\n",
      "34\n",
      "23\n",
      "25\n",
      "47\n",
      "50\n",
      "59\n",
      "44\n",
      "20\n",
      "18\n",
      "55\n",
      "42\n"
     ]
    }
   ],
   "source": [
    "# imprimindo os itens da lista passada dentro de um loop de iteração\n",
    "for idade in idades:\n",
    "    print(idade)"
   ]
  },
  {
   "cell_type": "code",
   "execution_count": 10,
   "id": "07ad8aef",
   "metadata": {},
   "outputs": [],
   "source": [
    "idades.remove(50)"
   ]
  },
  {
   "cell_type": "code",
   "execution_count": 11,
   "id": "fa4f8b32",
   "metadata": {},
   "outputs": [
    {
     "data": {
      "text/plain": [
       "[13, 34, 23, 25, 47, 59, 44, 20, 18, 55, 42]"
      ]
     },
     "execution_count": 11,
     "metadata": {},
     "output_type": "execute_result"
    }
   ],
   "source": [
    "idades"
   ]
  },
  {
   "cell_type": "code",
   "execution_count": 12,
   "id": "105b564f",
   "metadata": {},
   "outputs": [
    {
     "data": {
      "text/plain": [
       "[13, 34, 23, 25, 47, 59, 44, 20, 18, 55, 42, 50]"
      ]
     },
     "execution_count": 12,
     "metadata": {},
     "output_type": "execute_result"
    }
   ],
   "source": [
    "idades.append(50)\n",
    "idades"
   ]
  },
  {
   "cell_type": "code",
   "execution_count": 13,
   "id": "c8161818",
   "metadata": {},
   "outputs": [
    {
     "name": "stdout",
     "output_type": "stream",
     "text": [
      "recebi o elemento 13\n",
      "recebi o elemento 34\n",
      "recebi o elemento 23\n",
      "recebi o elemento 25\n",
      "recebi o elemento 47\n",
      "recebi o elemento 59\n",
      "recebi o elemento 44\n",
      "recebi o elemento 20\n",
      "recebi o elemento 18\n",
      "recebi o elemento 55\n",
      "recebi o elemento 42\n",
      "recebi o elemento 50\n"
     ]
    }
   ],
   "source": [
    "# imprimindo uma string antes de cada elemento da lista\n",
    "for elemento in idades:\n",
    "    print(\"recebi o elemento\", elemento)"
   ]
  },
  {
   "cell_type": "code",
   "execution_count": 14,
   "id": "6c4f0b0d",
   "metadata": {},
   "outputs": [
    {
     "name": "stdout",
     "output_type": "stream",
     "text": [
      "[35, 24, 26, 48, 60, 45, 56, 43, 51]\n"
     ]
    }
   ],
   "source": [
    "# passando um iterador dentro do loop, utilizando o conceito de list comprehension e armazenando em uma variável\n",
    "idades_ano_que_vem = [(idade + 1)for idade in idades if idade > 20]\n",
    "print(idades_ano_que_vem)"
   ]
  },
  {
   "cell_type": "code",
   "execution_count": 15,
   "id": "617233a2",
   "metadata": {},
   "outputs": [
    {
     "name": "stdout",
     "output_type": "stream",
     "text": [
      "[13, 34, 23, 25, 47, 59, 44, 20, 18, 55, 42, 50]\n"
     ]
    }
   ],
   "source": [
    "print (idades)\n"
   ]
  },
  {
   "cell_type": "code",
   "execution_count": 16,
   "id": "5e61f174",
   "metadata": {},
   "outputs": [
    {
     "name": "stdout",
     "output_type": "stream",
     "text": [
      "[35, 24, 26, 48, 60, 45, 56, 43, 51]\n"
     ]
    }
   ],
   "source": [
    "print (idades_ano_que_vem)"
   ]
  },
  {
   "cell_type": "code",
   "execution_count": 17,
   "id": "71fe481c",
   "metadata": {},
   "outputs": [
    {
     "data": {
      "text/plain": [
       "[35, 24, 26, 48, 60, 45, 56, 43, 51]"
      ]
     },
     "execution_count": 17,
     "metadata": {},
     "output_type": "execute_result"
    }
   ],
   "source": [
    "# criando a função de iteração, depois passando ela dentro de uma list comprehension \n",
    "def prox_ano(idade):\n",
    "    return idade + 1\n",
    "    \n",
    "[prox_ano(idade) for idade in idades if idade > 21]"
   ]
  },
  {
   "cell_type": "code",
   "execution_count": 18,
   "id": "e3abb8ea",
   "metadata": {},
   "outputs": [],
   "source": [
    "def faz_processamento_de_visualizacao(lista = None):\n",
    "    if lista == None:\n",
    "        lista = list()\n",
    "    print(len(lista))\n",
    "    print(lista)\n",
    "    lista.append(13)     "
   ]
  },
  {
   "cell_type": "code",
   "execution_count": 19,
   "id": "50d18986",
   "metadata": {},
   "outputs": [
    {
     "name": "stdout",
     "output_type": "stream",
     "text": [
      "0\n",
      "[]\n"
     ]
    }
   ],
   "source": [
    "faz_processamento_de_visualizacao()"
   ]
  },
  {
   "cell_type": "code",
   "execution_count": 20,
   "id": "95188d3e",
   "metadata": {},
   "outputs": [
    {
     "name": "stdout",
     "output_type": "stream",
     "text": [
      "0\n",
      "[]\n",
      "0\n",
      "[]\n",
      "0\n",
      "[]\n",
      "0\n",
      "[]\n"
     ]
    }
   ],
   "source": [
    "faz_processamento_de_visualizacao()\n",
    "faz_processamento_de_visualizacao()\n",
    "faz_processamento_de_visualizacao()\n",
    "faz_processamento_de_visualizacao()"
   ]
  },
  {
   "cell_type": "markdown",
   "id": "ad64930b",
   "metadata": {},
   "source": [
    "# Objetos próprios"
   ]
  },
  {
   "cell_type": "code",
   "execution_count": 21,
   "id": "987fa299",
   "metadata": {},
   "outputs": [],
   "source": [
    "# criando uma classe e suas respectivas funções\n",
    "class ContaCorrente:\n",
    "    \n",
    "    def __init__(self, codigo):\n",
    "        self.codigo = codigo\n",
    "        self.saldo = 0\n",
    "        \n",
    "    def deposita(self, valor):\n",
    "        self.saldo += valor\n",
    "        \n",
    "    def __str__(self):\n",
    "        return f\"[>>codigo {self.codigo} Saldo {self.saldo}<<]\""
   ]
  },
  {
   "cell_type": "code",
   "execution_count": 22,
   "id": "eb8cc657",
   "metadata": {},
   "outputs": [
    {
     "name": "stdout",
     "output_type": "stream",
     "text": [
      "[>>codigo 15 Saldo 0<<]\n"
     ]
    }
   ],
   "source": [
    "# instanciando a classe\n",
    "conta_do_gu = ContaCorrente(15)\n",
    "print(conta_do_gu)"
   ]
  },
  {
   "cell_type": "code",
   "execution_count": 23,
   "id": "c90524c6",
   "metadata": {},
   "outputs": [
    {
     "name": "stdout",
     "output_type": "stream",
     "text": [
      "[>>codigo 15 Saldo 500<<]\n"
     ]
    }
   ],
   "source": [
    "# passando a função deposita da classe ContaCorrente\n",
    "conta_do_gu.deposita(500)\n",
    "print(conta_do_gu)"
   ]
  },
  {
   "cell_type": "code",
   "execution_count": 24,
   "id": "4bcd6860",
   "metadata": {},
   "outputs": [
    {
     "name": "stdout",
     "output_type": "stream",
     "text": [
      "[>>codigo 47685 Saldo 1000<<]\n"
     ]
    }
   ],
   "source": [
    "# instanciando a conta da dani\n",
    "conta_da_dani = ContaCorrente(47685)\n",
    "conta_da_dani.deposita(1000)\n",
    "print(conta_da_dani)\n"
   ]
  },
  {
   "cell_type": "code",
   "execution_count": 25,
   "id": "dbd4fc0e",
   "metadata": {},
   "outputs": [
    {
     "name": "stdout",
     "output_type": "stream",
     "text": [
      "[>>codigo 15 Saldo 500<<]\n",
      "[>>codigo 47685 Saldo 1000<<]\n"
     ]
    }
   ],
   "source": [
    "# passando os objetos dentro de uma lista, armazenando em uma variável e imprimindo dentro de um loop for\n",
    "contas = [conta_do_gu, conta_da_dani]\n",
    "for conta in contas:\n",
    "    print(conta)"
   ]
  },
  {
   "cell_type": "code",
   "execution_count": 26,
   "id": "61fcd0fd",
   "metadata": {},
   "outputs": [],
   "source": [
    "contas = [conta_do_gu, conta_da_dani, conta_do_gu]"
   ]
  },
  {
   "cell_type": "code",
   "execution_count": 27,
   "id": "7411f988",
   "metadata": {},
   "outputs": [
    {
     "name": "stdout",
     "output_type": "stream",
     "text": [
      "[>>codigo 15 Saldo 500<<]\n"
     ]
    }
   ],
   "source": [
    "print(contas[0])"
   ]
  },
  {
   "cell_type": "code",
   "execution_count": 28,
   "id": "8325b5b2",
   "metadata": {},
   "outputs": [
    {
     "name": "stdout",
     "output_type": "stream",
     "text": [
      "[>>codigo 15 Saldo 600<<]\n"
     ]
    }
   ],
   "source": [
    "conta_do_gu.deposita(100)\n",
    "print(conta_do_gu)"
   ]
  },
  {
   "cell_type": "code",
   "execution_count": 29,
   "id": "c67a2e40",
   "metadata": {},
   "outputs": [
    {
     "name": "stdout",
     "output_type": "stream",
     "text": [
      "[>>codigo 15 Saldo 600<<]\n"
     ]
    }
   ],
   "source": [
    "# provando que o objeto repetido dentro da lista vai herdar as características do original e os valores posteriormente adiquiridos\n",
    "print(contas[2])"
   ]
  },
  {
   "cell_type": "code",
   "execution_count": 30,
   "id": "55700ddc",
   "metadata": {},
   "outputs": [
    {
     "name": "stdout",
     "output_type": "stream",
     "text": [
      "[>>codigo 15 Saldo 2100<<]\n"
     ]
    }
   ],
   "source": [
    "conta_do_gu.deposita(1500)\n",
    "print(contas[0])"
   ]
  },
  {
   "cell_type": "code",
   "execution_count": 31,
   "id": "de789d83",
   "metadata": {},
   "outputs": [
    {
     "name": "stdout",
     "output_type": "stream",
     "text": [
      "[>>codigo 15 Saldo 2100<<] [>>codigo 47685 Saldo 1000<<]\n",
      "[>>codigo 15 Saldo 2200<<] [>>codigo 47685 Saldo 1100<<]\n"
     ]
    }
   ],
   "source": [
    "# definindo a função deposita_para_todas() com um loop for ralizando a iteração dos objetos\n",
    "def deposita_para_todas(contas):\n",
    "    for conta in contas:\n",
    "        conta.deposita(100)\n",
    "        \n",
    "contas = [conta_do_gu, conta_da_dani]        \n",
    "print(contas[0], contas[1])       \n",
    "deposita_para_todas(contas)\n",
    "print(contas[0], contas[1])"
   ]
  },
  {
   "cell_type": "code",
   "execution_count": 32,
   "id": "55b08f1d",
   "metadata": {},
   "outputs": [
    {
     "name": "stdout",
     "output_type": "stream",
     "text": [
      "76 [>>codigo 15 Saldo 2200<<] [>>codigo 47685 Saldo 1100<<]\n"
     ]
    }
   ],
   "source": [
    "contas.insert(0, 76)\n",
    "print(contas[0], contas[1], contas[2])"
   ]
  },
  {
   "cell_type": "code",
   "execution_count": 33,
   "id": "5960a6a0",
   "metadata": {},
   "outputs": [
    {
     "ename": "AttributeError",
     "evalue": "'int' object has no attribute 'deposita'",
     "output_type": "error",
     "traceback": [
      "\u001b[1;31m---------------------------------------------------------------------------\u001b[0m",
      "\u001b[1;31mAttributeError\u001b[0m                            Traceback (most recent call last)",
      "\u001b[1;32m~\\AppData\\Local\\Temp/ipykernel_85044/1237706364.py\u001b[0m in \u001b[0;36m<module>\u001b[1;34m\u001b[0m\n\u001b[1;32m----> 1\u001b[1;33m \u001b[0mdeposita_para_todas\u001b[0m\u001b[1;33m(\u001b[0m\u001b[0mcontas\u001b[0m\u001b[1;33m)\u001b[0m\u001b[1;33m\u001b[0m\u001b[1;33m\u001b[0m\u001b[0m\n\u001b[0m\u001b[0;32m      2\u001b[0m \u001b[0mprint\u001b[0m\u001b[1;33m(\u001b[0m\u001b[0mcontas\u001b[0m\u001b[1;33m[\u001b[0m\u001b[1;36m0\u001b[0m\u001b[1;33m]\u001b[0m\u001b[1;33m,\u001b[0m \u001b[0mcontas\u001b[0m\u001b[1;33m[\u001b[0m\u001b[1;36m1\u001b[0m\u001b[1;33m]\u001b[0m\u001b[1;33m)\u001b[0m\u001b[1;33m\u001b[0m\u001b[1;33m\u001b[0m\u001b[0m\n",
      "\u001b[1;32m~\\AppData\\Local\\Temp/ipykernel_85044/3523826690.py\u001b[0m in \u001b[0;36mdeposita_para_todas\u001b[1;34m(contas)\u001b[0m\n\u001b[0;32m      2\u001b[0m \u001b[1;32mdef\u001b[0m \u001b[0mdeposita_para_todas\u001b[0m\u001b[1;33m(\u001b[0m\u001b[0mcontas\u001b[0m\u001b[1;33m)\u001b[0m\u001b[1;33m:\u001b[0m\u001b[1;33m\u001b[0m\u001b[1;33m\u001b[0m\u001b[0m\n\u001b[0;32m      3\u001b[0m     \u001b[1;32mfor\u001b[0m \u001b[0mconta\u001b[0m \u001b[1;32min\u001b[0m \u001b[0mcontas\u001b[0m\u001b[1;33m:\u001b[0m\u001b[1;33m\u001b[0m\u001b[1;33m\u001b[0m\u001b[0m\n\u001b[1;32m----> 4\u001b[1;33m         \u001b[0mconta\u001b[0m\u001b[1;33m.\u001b[0m\u001b[0mdeposita\u001b[0m\u001b[1;33m(\u001b[0m\u001b[1;36m100\u001b[0m\u001b[1;33m)\u001b[0m\u001b[1;33m\u001b[0m\u001b[1;33m\u001b[0m\u001b[0m\n\u001b[0m\u001b[0;32m      5\u001b[0m \u001b[1;33m\u001b[0m\u001b[0m\n\u001b[0;32m      6\u001b[0m \u001b[0mcontas\u001b[0m \u001b[1;33m=\u001b[0m \u001b[1;33m[\u001b[0m\u001b[0mconta_do_gu\u001b[0m\u001b[1;33m,\u001b[0m \u001b[0mconta_da_dani\u001b[0m\u001b[1;33m]\u001b[0m\u001b[1;33m\u001b[0m\u001b[1;33m\u001b[0m\u001b[0m\n",
      "\u001b[1;31mAttributeError\u001b[0m: 'int' object has no attribute 'deposita'"
     ]
    }
   ],
   "source": [
    "deposita_para_todas(contas)\n",
    "print(contas[0], contas[1])"
   ]
  },
  {
   "cell_type": "code",
   "execution_count": null,
   "id": "fb08df6d",
   "metadata": {},
   "outputs": [],
   "source": [
    "conta_do_gu = ContaCorrente(15)\n",
    "conta_do_gu.deposita(500)\n",
    "conta_da_dani = ContaCorrente(12345)\n",
    "conta_da_dani.deposita(1000)\n",
    "\n",
    "contas = (conta_do_gu, conta_da_dani)\n"
   ]
  },
  {
   "cell_type": "code",
   "execution_count": null,
   "id": "d120af9f",
   "metadata": {},
   "outputs": [],
   "source": [
    "for conta in contas:\n",
    "    print(conta)"
   ]
  },
  {
   "cell_type": "code",
   "execution_count": null,
   "id": "a6c170dc",
   "metadata": {},
   "outputs": [],
   "source": [
    "#provando que as tuplas sao imutáveis, porém seus objetos continuam sendo mutáveis\n",
    "contas[0].deposita(300)\n",
    "for conta in contas:\n",
    "    print(conta)\n"
   ]
  },
  {
   "cell_type": "markdown",
   "id": "75f84488",
   "metadata": {},
   "source": [
    "# Herança e polimorfismo\n"
   ]
  },
  {
   "cell_type": "code",
   "execution_count": null,
   "id": "05fe99d3",
   "metadata": {},
   "outputs": [],
   "source": [
    "class Conta:\n",
    "    \n",
    "    def __init__(self, codigo):\n",
    "        self._codigo = codigo\n",
    "        self._saldo = 0\n",
    "        \n",
    "    def deposita(self, valor):\n",
    "        self._saldo += valor\n",
    "        \n",
    "    def __str__(self):\n",
    "        return f\"[>>codigo {self._codigo} Saldo {self._saldo}<<]\""
   ]
  },
  {
   "cell_type": "code",
   "execution_count": null,
   "id": "35686b9f",
   "metadata": {},
   "outputs": [],
   "source": [
    "print(Conta(88))"
   ]
  },
  {
   "cell_type": "code",
   "execution_count": null,
   "id": "1ec96cee",
   "metadata": {},
   "outputs": [],
   "source": [
    "# Classe ContaCorrente recebe hernaça da classe Conta, passada como parâmetro da classe ContaCorrente\n",
    "class ContaCorrente(Conta):\n",
    "    \n",
    "    def passa_o_mes(self):\n",
    "        self._saldo -= 2\n",
    "        \n",
    "class ContaPoupanca(Conta):\n",
    "    \n",
    "    def passa_o_mes(self):\n",
    "        self._saldo *= 1.01\n",
    "        self._saldo -= 3\n",
    "        "
   ]
  },
  {
   "cell_type": "code",
   "execution_count": null,
   "id": "659eaba1",
   "metadata": {},
   "outputs": [],
   "source": [
    "# Criando instâncias da classe ContaCorrente\n",
    "conta16 = ContaCorrente(16)\n",
    "conta16.deposita(1000)\n",
    "conta16.passa_o_mes()\n",
    "print(conta16)\n"
   ]
  },
  {
   "cell_type": "code",
   "execution_count": null,
   "id": "25559e90",
   "metadata": {},
   "outputs": [],
   "source": [
    "# Criando instâncias da classe ContaCorrente\n",
    "conta17 = ContaPoupanca(17)\n",
    "conta17.deposita(1000)\n",
    "conta17.passa_o_mes()\n",
    "print(conta17)"
   ]
  },
  {
   "cell_type": "code",
   "execution_count": null,
   "id": "74cf9ace",
   "metadata": {},
   "outputs": [],
   "source": [
    "# Aplicando a função passa_o_mes nas instâncias da classe ContaCorrente\n",
    "conta16 = ContaCorrente(16)\n",
    "conta16.deposita(1000)\n",
    "onta17 = ContaPoupanca(17)\n",
    "conta17.deposita(1000)\n",
    "contas = [conta16, conta17]\n",
    "\n",
    "for conta in contas:\n",
    "    conta.passa_o_mes()\n",
    "    print(conta)"
   ]
  },
  {
   "cell_type": "markdown",
   "id": "3384b15d",
   "metadata": {},
   "source": [
    "# Arrays e Numpy\n"
   ]
  },
  {
   "cell_type": "markdown",
   "id": "ce691609",
   "metadata": {},
   "source": [
    "evitaremos usar arrays, usaremos no lugar, a biblioteca numpy para trabalho numérico."
   ]
  },
  {
   "cell_type": "code",
   "execution_count": null,
   "id": "91f4ba0d",
   "metadata": {},
   "outputs": [],
   "source": [
    "import array as arr\n",
    "\n",
    "numeros = arr.array('d', [1, 3.5])\n",
    "print(numeros)"
   ]
  },
  {
   "cell_type": "code",
   "execution_count": null,
   "id": "a513255e",
   "metadata": {},
   "outputs": [],
   "source": [
    "numeros = numeros + 3\n",
    "print(numeros)"
   ]
  },
  {
   "cell_type": "code",
   "execution_count": null,
   "id": "fe255f53",
   "metadata": {},
   "outputs": [],
   "source": [
    "pip install numpy"
   ]
  },
  {
   "cell_type": "code",
   "execution_count": null,
   "id": "e353658d",
   "metadata": {},
   "outputs": [],
   "source": [
    "import numpy as np\n",
    "\n",
    "numeros = np.array([1, 3.5])\n",
    "numeros"
   ]
  },
  {
   "cell_type": "code",
   "execution_count": null,
   "id": "8453eea2",
   "metadata": {},
   "outputs": [],
   "source": [
    "print(numeros)"
   ]
  },
  {
   "cell_type": "code",
   "execution_count": null,
   "id": "eb1ef37b",
   "metadata": {},
   "outputs": [],
   "source": [
    "numeros + 3"
   ]
  },
  {
   "cell_type": "markdown",
   "id": "b27fcf65",
   "metadata": {},
   "source": [
    "# Igualdade"
   ]
  },
  {
   "cell_type": "code",
   "execution_count": null,
   "id": "492fc5f0",
   "metadata": {},
   "outputs": [],
   "source": [
    "# definimos a função de igualdade __eq__() para verificar a presença de objetos idênticos dentro da classe\n",
    "class ContaSalario:\n",
    "    \n",
    "    def __init__(self, codigo):\n",
    "        self._codigo = codigo\n",
    "        self._saldo = 0\n",
    "        \n",
    "    def __eq__(self, outro):\n",
    "        return self._codigo == outro._codigo and self._saldo == outro._saldo\n",
    "        \n",
    "    def deposita(self, valor):\n",
    "        self._saldo += valor\n",
    "        \n",
    "    def __str__(self):\n",
    "        return f\"[>> Codigo {self._codigo} Saldo {self._saldo}]\""
   ]
  },
  {
   "cell_type": "code",
   "execution_count": null,
   "id": "c2f216b4",
   "metadata": {},
   "outputs": [],
   "source": [
    "conta1 = ContaSalario(37)\n",
    "print(conta1)"
   ]
  },
  {
   "cell_type": "code",
   "execution_count": null,
   "id": "8e541def",
   "metadata": {},
   "outputs": [],
   "source": [
    "conta2 = ContaSalario(37)\n",
    "print(conta2)"
   ]
  },
  {
   "cell_type": "code",
   "execution_count": null,
   "id": "7cfc8b0d",
   "metadata": {},
   "outputs": [],
   "source": [
    "conta1 == conta2"
   ]
  },
  {
   "cell_type": "code",
   "execution_count": null,
   "id": "d403f829",
   "metadata": {},
   "outputs": [],
   "source": [
    "contas =  [conta1]\n",
    "conta1 in contas"
   ]
  },
  {
   "cell_type": "code",
   "execution_count": null,
   "id": "75aa0d17",
   "metadata": {},
   "outputs": [],
   "source": [
    "conta2 in contas"
   ]
  },
  {
   "cell_type": "code",
   "execution_count": null,
   "id": "fdeca189",
   "metadata": {},
   "outputs": [],
   "source": [
    "conta2 in [conta1]"
   ]
  },
  {
   "cell_type": "code",
   "execution_count": null,
   "id": "425a2499",
   "metadata": {},
   "outputs": [],
   "source": [
    "conta1 in [conta2]"
   ]
  },
  {
   "cell_type": "code",
   "execution_count": null,
   "id": "8036429c",
   "metadata": {},
   "outputs": [],
   "source": [
    "# os objetos seguem idênticos até o momento em que recebem valores distintos\n",
    "conta1.deposita(10)"
   ]
  },
  {
   "cell_type": "code",
   "execution_count": null,
   "id": "7adf296d",
   "metadata": {},
   "outputs": [],
   "source": [
    "conta1 == conta2\n"
   ]
  },
  {
   "cell_type": "code",
   "execution_count": null,
   "id": "e40677e0",
   "metadata": {},
   "outputs": [],
   "source": [
    "class ContaSalario:\n",
    "    \n",
    "    def __init__(self, codigo):\n",
    "        self._codigo = codigo\n",
    "        self._saldo = 0\n",
    "        \n",
    "    def __eq__(self, outro):\n",
    "        if type(outro) != ContaSalario:\n",
    "            return False\n",
    "        \n",
    "        return self._codigo == outro._codigo and self._saldo == outro._saldo\n",
    "        \n",
    "    def deposita(self, valor):\n",
    "        self._saldo += valor\n",
    "        \n",
    "    def __str__(self):\n",
    "        return f\"[>> Codigo {self._codigo} Saldo {self._saldo}]\"\n",
    "    \n",
    "    "
   ]
  },
  {
   "cell_type": "code",
   "execution_count": null,
   "id": "b590ce1b",
   "metadata": {},
   "outputs": [],
   "source": [
    "conta1 = ContaSalario(37)\n",
    "conta2 = ContaCorrente(37)"
   ]
  },
  {
   "cell_type": "code",
   "execution_count": null,
   "id": "c587b846",
   "metadata": {},
   "outputs": [],
   "source": [
    "isinstance(ContaCorrente(34), ContaCorrente)"
   ]
  },
  {
   "cell_type": "code",
   "execution_count": null,
   "id": "7e6e9500",
   "metadata": {},
   "outputs": [],
   "source": [
    "print(idades)"
   ]
  },
  {
   "cell_type": "code",
   "execution_count": null,
   "id": "28bd7427",
   "metadata": {},
   "outputs": [],
   "source": [
    "for i in enumerate(idades):\n",
    "    print(idades)"
   ]
  },
  {
   "cell_type": "code",
   "execution_count": null,
   "id": "49b8f2ce",
   "metadata": {},
   "outputs": [],
   "source": [
    "enumerate(idades)"
   ]
  },
  {
   "cell_type": "code",
   "execution_count": null,
   "id": "ee5d6d34",
   "metadata": {},
   "outputs": [],
   "source": [
    "type(range(len(idades))) #Lazy..."
   ]
  },
  {
   "cell_type": "code",
   "execution_count": null,
   "id": "48b28a8c",
   "metadata": {},
   "outputs": [],
   "source": [
    "print(enumerate(idades)) #lazy..."
   ]
  },
  {
   "cell_type": "code",
   "execution_count": null,
   "id": "c2857f3e",
   "metadata": {},
   "outputs": [],
   "source": [
    "list(range(len(idades)))"
   ]
  },
  {
   "cell_type": "code",
   "execution_count": null,
   "id": "18f9afd3",
   "metadata": {},
   "outputs": [],
   "source": [
    "# gerando a saída em tuplas, com a função enumerate dentro de uma lista\n",
    "print(list(enumerate(idades)))"
   ]
  },
  {
   "cell_type": "code",
   "execution_count": null,
   "id": "320888d1",
   "metadata": {},
   "outputs": [],
   "source": [
    "# armazenando o indice e seu respectivo valor em variáveis, e passando em um loop com a função enumerate\n",
    "for indice, idade in enumerate(idades):\n",
    "    print(indice, \"x\", idade)"
   ]
  },
  {
   "cell_type": "code",
   "execution_count": null,
   "id": "4d46c36a",
   "metadata": {},
   "outputs": [],
   "source": [
    "# criando uma lista de tuplas e gerando sua saída com auxílio do loop for\n",
    "usuarios = [\n",
    "    (\"Guilherme\", 37, 1981),\n",
    "    (\"Daniela\", 39, 1987),\n",
    "    (\"Paulo\", 39, 1979)\n",
    "]\n",
    "\n",
    "for usuario in usuarios:\n",
    "    print(usuario)"
   ]
  },
  {
   "cell_type": "code",
   "execution_count": null,
   "id": "8cfc599c",
   "metadata": {},
   "outputs": [],
   "source": [
    "for nome, idade, nascimento in usuarios:\n",
    "    print(nome, idade, nascimento) #já desenpacotando"
   ]
  },
  {
   "cell_type": "code",
   "execution_count": null,
   "id": "17096400",
   "metadata": {},
   "outputs": [],
   "source": [
    "for nome, _, _ in usuarios:\n",
    "    print(nome) #já desenpacotando e ignorando outros valores"
   ]
  },
  {
   "cell_type": "code",
   "execution_count": null,
   "id": "20ec02d0",
   "metadata": {},
   "outputs": [],
   "source": [
    "idades\n"
   ]
  },
  {
   "cell_type": "code",
   "execution_count": null,
   "id": "369207cd",
   "metadata": {},
   "outputs": [],
   "source": [
    "# aplicando a função sorted para ordenar a lista\n",
    "sorted(idades)"
   ]
  },
  {
   "cell_type": "code",
   "execution_count": null,
   "id": "89645083",
   "metadata": {},
   "outputs": [],
   "source": [
    "# colocando na ordem inversa, os indices e seus valores correspondentes, usando a função reversed\n",
    "list(reversed(idades))"
   ]
  },
  {
   "cell_type": "code",
   "execution_count": null,
   "id": "83d8aeab",
   "metadata": {},
   "outputs": [],
   "source": [
    "# ordem inversa com reverse = True passado como parâmetro(considerando os valores)\n",
    "sorted(idades, reverse = True)"
   ]
  },
  {
   "cell_type": "code",
   "execution_count": null,
   "id": "5740cb31",
   "metadata": {},
   "outputs": [],
   "source": [
    "# outra forma de fazer ordem inversa\n",
    "list(reversed(sorted(idades)))"
   ]
  },
  {
   "cell_type": "code",
   "execution_count": null,
   "id": "58a2cab0",
   "metadata": {},
   "outputs": [],
   "source": [
    "# outra forma de fazer ordem inversa, com a função .sort e reverse = True passado como parâmetro\n",
    "idades.sort(reverse = True)\n",
    "print(idades)"
   ]
  },
  {
   "cell_type": "code",
   "execution_count": null,
   "id": "3f7ae103",
   "metadata": {},
   "outputs": [],
   "source": [
    "class ContaSalario:\n",
    "    \n",
    "    def __init__(self, codigo):\n",
    "        self._codigo = codigo\n",
    "        self._saldo = 0\n",
    "        \n",
    "    def __eq__(self, outro):\n",
    "        if type(outro) != ContaSalario:\n",
    "            return False\n",
    "        \n",
    "        return self._codigo == outro._codigo and self._saldo == outro._saldo\n",
    "        \n",
    "    def deposita(self, valor):\n",
    "        self._saldo += valor\n",
    "        \n",
    "    def __str__(self):\n",
    "        return f\"[>> Codigo {self._codigo} Saldo {self._saldo}<<]\"\n",
    "    \n",
    "    "
   ]
  },
  {
   "cell_type": "code",
   "execution_count": null,
   "id": "4e65c35d",
   "metadata": {},
   "outputs": [],
   "source": [
    "conta_do_guilherme = ContaSalario(17)\n",
    "conta_do_guilherme.deposita(500)\n",
    "\n",
    "conta_da_daniela = ContaSalario(3)\n",
    "conta_da_daniela.deposita(1000)\n",
    "\n",
    "conta_do_paulo = ContaSalario(133)\n",
    "conta_do_paulo.deposita(510)\n",
    "\n",
    "contas = [conta_do_guilherme, conta_da_daniela, conta_do_paulo]"
   ]
  },
  {
   "cell_type": "code",
   "execution_count": null,
   "id": "fd576bec",
   "metadata": {},
   "outputs": [],
   "source": [
    "for conta in contas:\n",
    "    print(conta)"
   ]
  },
  {
   "cell_type": "code",
   "execution_count": null,
   "id": "85477884",
   "metadata": {},
   "outputs": [],
   "source": [
    "sorted(contas)"
   ]
  },
  {
   "cell_type": "code",
   "execution_count": null,
   "id": "17b57491",
   "metadata": {},
   "outputs": [],
   "source": [
    "conta_do_guilherme < conta_da_daniela"
   ]
  },
  {
   "cell_type": "code",
   "execution_count": null,
   "id": "50ab0047",
   "metadata": {},
   "outputs": [],
   "source": [
    "def extrai_saldo(conta):\n",
    "    return conta._saldo\n",
    "\n",
    "for conta in sorted(contas, key = extrai_saldo): #temos o probema de acessar um atributo privado\n",
    "    print(conta)"
   ]
  },
  {
   "cell_type": "code",
   "execution_count": null,
   "id": "3240e2e2",
   "metadata": {},
   "outputs": [],
   "source": [
    "from operator import attrgetter"
   ]
  },
  {
   "cell_type": "code",
   "execution_count": null,
   "id": "2c8e9e57",
   "metadata": {},
   "outputs": [],
   "source": [
    "\n",
    "for conta in sorted(contas, key = attrgetter(\"_saldo\")): #com o attrgetter ainda temos o mesmo problema de acessar um atributo privado\n",
    "    print(conta)"
   ]
  },
  {
   "cell_type": "code",
   "execution_count": null,
   "id": "e4c75377",
   "metadata": {},
   "outputs": [],
   "source": [
    "class ContaSalario:\n",
    "    \n",
    "    def __init__(self, codigo):\n",
    "        self._codigo = codigo\n",
    "        self._saldo = 0\n",
    "        \n",
    "    def __eq__(self, outro):\n",
    "        if type(outro) != ContaSalario:\n",
    "            return False\n",
    "        \n",
    "        return self._codigo == outro._codigo and self._saldo == outro._saldo\n",
    "    \n",
    "    def __lt__(self, outro):\n",
    "        return self._saldo < outro._saldo\n",
    "        \n",
    "    def deposita(self, valor):\n",
    "        self._saldo += valor\n",
    "        \n",
    "    def __str__(self):\n",
    "        return f\"[>> Codigo {self._codigo} Saldo {self._saldo}<<]\"\n",
    "    \n",
    "    "
   ]
  },
  {
   "cell_type": "code",
   "execution_count": null,
   "id": "b0f55cf3",
   "metadata": {},
   "outputs": [],
   "source": [
    "conta_do_guilherme = ContaSalario(170)\n",
    "conta_do_guilherme.deposita(500)\n",
    "\n",
    "conta_da_daniela = ContaSalario(3)\n",
    "conta_da_daniela.deposita(1000)\n",
    "\n",
    "conta_do_paulo = ContaSalario(133)\n",
    "conta_do_paulo.deposita(500)\n",
    "\n",
    "contas = [conta_do_guilherme, conta_da_daniela, conta_do_paulo]"
   ]
  },
  {
   "cell_type": "code",
   "execution_count": null,
   "id": "ae836ebf",
   "metadata": {},
   "outputs": [],
   "source": [
    "conta_do_guilherme < conta_da_daniela"
   ]
  },
  {
   "cell_type": "code",
   "execution_count": null,
   "id": "24137a89",
   "metadata": {},
   "outputs": [],
   "source": [
    "conta_do_guilherme > conta_da_daniela"
   ]
  },
  {
   "cell_type": "code",
   "execution_count": null,
   "id": "3b854521",
   "metadata": {},
   "outputs": [],
   "source": [
    "for conta in sorted(contas, reverse = True):\n",
    "    print(conta)"
   ]
  },
  {
   "cell_type": "code",
   "execution_count": null,
   "id": "6bf8fbbd",
   "metadata": {},
   "outputs": [],
   "source": [
    "for conta in sorted(contas, key = attrgetter(\"_saldo\", \"_codigo\")):\n",
    "    print(conta)"
   ]
  },
  {
   "cell_type": "code",
   "execution_count": null,
   "id": "a1601c82",
   "metadata": {},
   "outputs": [],
   "source": [
    "from functools import total_ordering\n",
    "\n",
    "@total_ordering\n",
    "class ContaSalario:\n",
    "    \n",
    "    def __init__(self, codigo):\n",
    "        self._codigo = codigo\n",
    "        self._saldo = 0\n",
    "        \n",
    "    def __eq__(self, outro):\n",
    "        if type(outro) != ContaSalario:\n",
    "            return False\n",
    "        return self._codigo == outro._codigo and self._saldo == outro._saldo\n",
    "    \n",
    "    def __lt__(self, outro):\n",
    "        if self._saldo != outro._saldo:\n",
    "            return self._saldo < outro._saldo\n",
    "        return self._codigo < outro._codigo\n",
    "    \n",
    "    def deposita(self, valor):\n",
    "        self._saldo += valor\n",
    "        \n",
    "    def __str__(self):\n",
    "        return f\"[>> Codigo {self._codigo} Saldo {self._saldo}<<]\"\n",
    "    \n",
    "    "
   ]
  },
  {
   "cell_type": "code",
   "execution_count": null,
   "id": "b5c21a82",
   "metadata": {},
   "outputs": [],
   "source": [
    "for conta in sorted(contas):\n",
    "    print(conta)"
   ]
  },
  {
   "cell_type": "code",
   "execution_count": null,
   "id": "a4d582da",
   "metadata": {},
   "outputs": [],
   "source": [
    "conta_do_guilherme <= conta_da_daniela"
   ]
  }
 ],
 "metadata": {
  "kernelspec": {
   "display_name": "Python 3 (ipykernel)",
   "language": "python",
   "name": "python3"
  },
  "language_info": {
   "codemirror_mode": {
    "name": "ipython",
    "version": 3
   },
   "file_extension": ".py",
   "mimetype": "text/x-python",
   "name": "python",
   "nbconvert_exporter": "python",
   "pygments_lexer": "ipython3",
   "version": "3.9.7"
  }
 },
 "nbformat": 4,
 "nbformat_minor": 5
}
